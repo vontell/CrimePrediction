{
 "cells": [
  {
   "cell_type": "markdown",
   "metadata": {},
   "source": [
    "# Crime Analysis and Prediction\n",
    "\n",
    "This file contains a set of experiments for analyzing and extrapolating data regarding crimes."
   ]
  },
  {
   "cell_type": "markdown",
   "metadata": {},
   "source": [
    "## 1. Data Loading and Sanitization"
   ]
  },
  {
   "cell_type": "code",
   "execution_count": 6,
   "metadata": {
    "scrolled": true
   },
   "outputs": [
    {
     "name": "stdout",
     "output_type": "stream",
     "text": [
      "Loading existing pickled crimes\n",
      "Creating checkpoint for crimes\n",
      "Loading crime data\n",
      "Finished loading crime data\n",
      "Now loading social / economics data\n",
      "WARNING: THIS IS HARDCODED TO WORK WITH CHICAGO ONLY\n"
     ]
    },
    {
     "ename": "IOError",
     "evalue": "[Errno 2] No such file or directory: 'data/chicago_poverty_and_crime.csv'",
     "output_type": "error",
     "traceback": [
      "\u001b[0;31m---------------------------------------------------------------------------\u001b[0m",
      "\u001b[0;31mIOError\u001b[0m                                   Traceback (most recent call last)",
      "\u001b[0;32m<ipython-input-6-217fb4e79b70>\u001b[0m in \u001b[0;36m<module>\u001b[0;34m()\u001b[0m\n\u001b[1;32m     10\u001b[0m \u001b[0;31m#    data_limit - The number of crimes to load (used for speedup)\u001b[0m\u001b[0;34m\u001b[0m\u001b[0;34m\u001b[0m\u001b[0m\n\u001b[1;32m     11\u001b[0m \u001b[0mdata\u001b[0m \u001b[0;34m=\u001b[0m \u001b[0mCrimeLoader\u001b[0m\u001b[0;34m(\u001b[0m\u001b[0;34m)\u001b[0m\u001b[0;34m\u001b[0m\u001b[0m\n\u001b[0;32m---> 12\u001b[0;31m \u001b[0mdata\u001b[0m\u001b[0;34m.\u001b[0m\u001b[0mload_data\u001b[0m\u001b[0;34m(\u001b[0m\u001b[0mforce_refresh\u001b[0m\u001b[0;34m=\u001b[0m\u001b[0mFalse\u001b[0m\u001b[0;34m,\u001b[0m \u001b[0mforce_save\u001b[0m\u001b[0;34m=\u001b[0m\u001b[0mFalse\u001b[0m\u001b[0;34m,\u001b[0m \u001b[0mdata_limit\u001b[0m\u001b[0;34m=\u001b[0m\u001b[0;36m10000\u001b[0m\u001b[0;34m,\u001b[0m \u001b[0mrandomize\u001b[0m\u001b[0;34m=\u001b[0m\u001b[0mTrue\u001b[0m\u001b[0;34m)\u001b[0m\u001b[0;34m\u001b[0m\u001b[0m\n\u001b[0m\u001b[1;32m     13\u001b[0m \u001b[0;34m\u001b[0m\u001b[0m\n\u001b[1;32m     14\u001b[0m \u001b[0;31m# List of possible features to include:\u001b[0m\u001b[0;34m\u001b[0m\u001b[0;34m\u001b[0m\u001b[0m\n",
      "\u001b[0;32m/Users/ruili/Desktop/final_project_867/CrimePrediction/data.py\u001b[0m in \u001b[0;36mload_data\u001b[0;34m(self, force_refresh, force_save, data_limit, randomize)\u001b[0m\n\u001b[1;32m    284\u001b[0m \u001b[0;34m\u001b[0m\u001b[0m\n\u001b[1;32m    285\u001b[0m         \u001b[0mdata_file\u001b[0m \u001b[0;34m=\u001b[0m \u001b[0mself\u001b[0m\u001b[0;34m.\u001b[0m\u001b[0mconfig\u001b[0m\u001b[0;34m[\u001b[0m\u001b[0;34m\"root_data\"\u001b[0m\u001b[0;34m]\u001b[0m \u001b[0;34m+\u001b[0m \u001b[0mself\u001b[0m\u001b[0;34m.\u001b[0m\u001b[0mconfig\u001b[0m\u001b[0;34m[\u001b[0m\u001b[0;34m\"CH_social\"\u001b[0m\u001b[0;34m]\u001b[0m\u001b[0;34m\u001b[0m\u001b[0m\n\u001b[0;32m--> 286\u001b[0;31m         \u001b[0;32mwith\u001b[0m \u001b[0mopen\u001b[0m\u001b[0;34m(\u001b[0m\u001b[0mdata_file\u001b[0m\u001b[0;34m)\u001b[0m \u001b[0;32mas\u001b[0m \u001b[0mcsvfile\u001b[0m\u001b[0;34m:\u001b[0m\u001b[0;34m\u001b[0m\u001b[0m\n\u001b[0m\u001b[1;32m    287\u001b[0m             \u001b[0mcontent\u001b[0m \u001b[0;34m=\u001b[0m \u001b[0mcsvfile\u001b[0m\u001b[0;34m.\u001b[0m\u001b[0mreadlines\u001b[0m\u001b[0;34m(\u001b[0m\u001b[0;34m)\u001b[0m\u001b[0;34m\u001b[0m\u001b[0m\n\u001b[1;32m    288\u001b[0m             \u001b[0mcontent\u001b[0m \u001b[0;34m=\u001b[0m \u001b[0;34m[\u001b[0m\u001b[0mx\u001b[0m\u001b[0;34m.\u001b[0m\u001b[0mstrip\u001b[0m\u001b[0;34m(\u001b[0m\u001b[0;34m)\u001b[0m \u001b[0;32mfor\u001b[0m \u001b[0mx\u001b[0m \u001b[0;32min\u001b[0m \u001b[0mcontent\u001b[0m\u001b[0;34m]\u001b[0m\u001b[0;34m\u001b[0m\u001b[0m\n",
      "\u001b[0;31mIOError\u001b[0m: [Errno 2] No such file or directory: 'data/chicago_poverty_and_crime.csv'"
     ]
    }
   ],
   "source": [
    "import matplotlib.pyplot as plt\n",
    "from sklearn.neighbors import KNeighborsClassifier\n",
    "from sklearn.linear_model import LogisticRegression\n",
    "from data import CrimeLoader\n",
    "import numpy as np\n",
    "\n",
    "# Crime loader now handles all of the data saving and parsing\n",
    "#    force_refresh - If true, will read from the original files rather than a saved pickle file\n",
    "#    force_save - If true, will save any loaded data into a pickle for later loading\n",
    "#    data_limit - The number of crimes to load (used for speedup)\n",
    "data = CrimeLoader()\n",
    "data.load_data(force_refresh=False, force_save=False, data_limit=10000, randomize=True)\n",
    "\n",
    "# List of possible features to include:\n",
    "#    day                - Day of the week (ex: SUN - SAT) 1-hot encoded\n",
    "#    time               - Time of day (ex: Morning, Afternoon, Evening, Late Night) 1-hot encoded\n",
    "#    time min           - Time in minutes (ex: 1420 minutes) Integer value (not 1-hot encoded)\n",
    "#    hour               - Time in hour (ex: 13) Integer value (not 1-hot encoded)\n",
    "#    location           - Location of crime, (ex: lat, long) 2 float values\n",
    "#    crime condensed    - Encoding of crime, 1-hot encoded of length 9 (?)\n",
    "#    crime full         - Encoding of crime, 1-hot encoded of length ~ 30\n",
    "#    all                - All of the above\n",
    "\n",
    "X_features = [\"time min\", \"location\"]\n",
    "Y_features = [\"crime condensed\"]\n",
    "X, Y, X_decoder, Y_decoder = data.get_workable_data(X_features, Y_features)\n",
    "print(\"Featurization achieved\")"
   ]
  },
  {
   "cell_type": "markdown",
   "metadata": {},
   "source": [
    "## 2. K-Nearest Neighbors"
   ]
  },
  {
   "cell_type": "code",
   "execution_count": null,
   "metadata": {
    "collapsed": true
   },
   "outputs": [],
   "source": [
    "def train_KNN(feature_matrix, targets, n):\n",
    "    knn = KNeighborsClassifier(n_neighbors=n)\n",
    "    Y = np.zeros(targets.shape[0])\n",
    "    for i in range(targets.shape[0]):\n",
    "        Y[i] = np.argmax(targets[i])\n",
    "    knn.fit(feature_matrix,Y)\n",
    "    return knn\n"
   ]
  },
  {
   "cell_type": "code",
   "execution_count": null,
   "metadata": {
    "collapsed": true
   },
   "outputs": [],
   "source": [
    "def int_to_category(prediction):\n",
    "    categories = [\"KIDNAPPING / CHILDREN\",\"ROBBERY/BURGLARY/THEFT\",\"ASSAULT/VIOLENCE\",\"NARCOTICS\",\"PUBLIC-RELATED CRIME\",\"DAMAGE/ARSON\",\"OTHER/NON-CRIMINAL\",\"WEAPON-RELATED\",\"PROHIBITIVE CRIME\"]\n",
    "    return categories[int(prediction)]\n"
   ]
  },
  {
   "cell_type": "code",
   "execution_count": null,
   "metadata": {
    "scrolled": true
   },
   "outputs": [],
   "source": [
    "def evaluate_KNN(X, Y):\n",
    "    # Loading data\n",
    "    X_train = X[1:300]\n",
    "    Y_train = Y[1:300]\n",
    "    X_validate = X[300:500]\n",
    "    Y_validate = Y[300:500]\n",
    "    X_test = X[500:600]\n",
    "    Y_test = Y[500:600]\n",
    "    \n",
    "    #Tuning on the validation set for value of K\n",
    "    K = [k for k in range(1,30)]\n",
    "    best_K = 0\n",
    "    max_score = 0.0\n",
    "    for k in K:\n",
    "        knn = train_KNN(X_train, Y_train, k)\n",
    "        predictions = knn.predict(X_validate)\n",
    "        correct = 0.0\n",
    "        for i in range(predictions.shape[0]):\n",
    "            if int_to_category(predictions[i]) == Y_decoder(Y_validate[i])[0]:\n",
    "                correct += 1.0\n",
    "        if correct > max_score:\n",
    "            max_score = correct\n",
    "            best_K = k\n",
    "        print(\"Validation set Performance with k = \" + str(k) + \":\" + str(correct/predictions.shape[0]))\n",
    "    \n",
    "    #Evaluating on Test set with best K value\n",
    "    knn = train_KNN(X_train, Y_train, best_K)\n",
    "    predictions = knn.predict(X_test)\n",
    "    correct = 0.0\n",
    "    for i in range(predictions.shape[0]):\n",
    "        if int_to_category(predictions[i]) == Y_decoder(Y_test[i])[0]:\n",
    "            correct += 1.0\n",
    "    if correct > max_score:\n",
    "        max_score = correct\n",
    "        best_K = k\n",
    "    print(\"Test set Performance with k = \" + str(best_K) + \":  \" + str(correct/predictions.shape[0]))\n",
    "\n",
    "print(X.shape)\n",
    "evaluate_KNN(X, Y)       \n",
    "        \n",
    "    \n",
    "    \n",
    "    \n",
    "    "
   ]
  },
  {
   "cell_type": "code",
   "execution_count": null,
   "metadata": {
    "collapsed": true
   },
   "outputs": [],
   "source": [
    "def train_MaxEnt(feature_matrix, targets, c):\n",
    "    maxEnt = LogisticRegression(C = c)\n",
    "    maxEnt.fit(feature_matrix,targets)\n",
    "    return maxEnt"
   ]
  },
  {
   "cell_type": "code",
   "execution_count": 5,
   "metadata": {},
   "outputs": [
    {
     "ename": "NameError",
     "evalue": "name 'X' is not defined",
     "output_type": "error",
     "traceback": [
      "\u001b[0;31m---------------------------------------------------------------------------\u001b[0m",
      "\u001b[0;31mNameError\u001b[0m                                 Traceback (most recent call last)",
      "\u001b[0;32m<ipython-input-5-28cfeffa0f08>\u001b[0m in \u001b[0;36m<module>\u001b[0;34m()\u001b[0m\n\u001b[1;32m     41\u001b[0m     \u001b[0;32mprint\u001b[0m\u001b[0;34m(\u001b[0m\u001b[0;34m\"Test set Performance with C = \"\u001b[0m \u001b[0;34m+\u001b[0m \u001b[0mstr\u001b[0m\u001b[0;34m(\u001b[0m\u001b[0mbest_C\u001b[0m\u001b[0;34m)\u001b[0m \u001b[0;34m+\u001b[0m \u001b[0;34m\":  \"\u001b[0m \u001b[0;34m+\u001b[0m \u001b[0mstr\u001b[0m\u001b[0;34m(\u001b[0m\u001b[0mtest_score\u001b[0m\u001b[0;34m)\u001b[0m\u001b[0;34m)\u001b[0m\u001b[0;34m\u001b[0m\u001b[0m\n\u001b[1;32m     42\u001b[0m \u001b[0;34m\u001b[0m\u001b[0m\n\u001b[0;32m---> 43\u001b[0;31m \u001b[0mevaluate_MaxEnt\u001b[0m\u001b[0;34m(\u001b[0m\u001b[0mX\u001b[0m\u001b[0;34m,\u001b[0m \u001b[0mY\u001b[0m\u001b[0;34m)\u001b[0m\u001b[0;34m\u001b[0m\u001b[0m\n\u001b[0m\u001b[1;32m     44\u001b[0m \u001b[0;34m\u001b[0m\u001b[0m\n",
      "\u001b[0;31mNameError\u001b[0m: name 'X' is not defined"
     ]
    }
   ],
   "source": [
    "def evaluate_MaxEnt(X, Y):\n",
    "    # Loading data\n",
    "    X_train = X[1:300]\n",
    "    Y_train = Y[1:300]\n",
    "    X_validate = X[300:500]\n",
    "    Y_validate = Y[300:500]\n",
    "    X_test = X[500:600]\n",
    "    Y_test = Y[500:600]\n",
    "    train_targets = np.zeros(Y_train.shape[0])\n",
    "    for i in range(Y_train.shape[0]):\n",
    "        train_targets[i] = np.argmax(Y_train[i])\n",
    "    validation_targets = np.zeros(Y_validate.shape[0])\n",
    "    for i in range(Y_validate.shape[0]):\n",
    "        validation_targets[i] = np.argmax(Y_validate[i])\n",
    "    test_targets = np.zeros(Y_test.shape[0])\n",
    "    for i in range(Y_test.shape[0]):\n",
    "        test_targets[i] = np.argmax(Y_test[i])\n",
    "    \n",
    "    print train_targets\n",
    "    print validation_targets\n",
    "    print test_targets\n",
    "    \n",
    "        \n",
    "    \n",
    "    #Tuning on the validation set for value of C\n",
    "    C = [.001, .01, .1, 1.0, 2.0, 5.0, 10.0]\n",
    "    best_C = 0\n",
    "    max_score = 0.0\n",
    "    for c in C:\n",
    "        maxEnt = train_MaxEnt(X_train, train_targets, c)\n",
    "        \n",
    "        score = maxEnt.score(X_validate, validation_targets)\n",
    "        if score > max_score:\n",
    "            max_score = score\n",
    "            best_C = c\n",
    "        print(\"Validation set Performance with C = \" + str(c) + \":\" + str(score))\n",
    "    \n",
    "    #Evaluating on Test set with best K value\n",
    "    maxEnt = train_MaxEnt(X_train, train_targets, .001)\n",
    "    test_score = maxEnt.score(X_test, test_targets)\n",
    "    print(\"Test set Performance with C = \" + str(best_C) + \":  \" + str(test_score))\n",
    "\n",
    "evaluate_MaxEnt(X, Y)       \n",
    "    "
   ]
  },
  {
   "cell_type": "markdown",
   "metadata": {},
   "source": [
    "## 4. Neural Network"
   ]
  },
  {
   "cell_type": "code",
   "execution_count": 9,
   "metadata": {},
   "outputs": [
    {
     "ename": "ImportError",
     "evalue": "No module named keras",
     "output_type": "error",
     "traceback": [
      "\u001b[0;31m---------------------------------------------------------------------------\u001b[0m",
      "\u001b[0;31mImportError\u001b[0m                               Traceback (most recent call last)",
      "\u001b[0;32m<ipython-input-9-88d96843a926>\u001b[0m in \u001b[0;36m<module>\u001b[0;34m()\u001b[0m\n\u001b[0;32m----> 1\u001b[0;31m \u001b[0;32mimport\u001b[0m \u001b[0mkeras\u001b[0m\u001b[0;34m\u001b[0m\u001b[0m\n\u001b[0m",
      "\u001b[0;31mImportError\u001b[0m: No module named keras"
     ]
    }
   ],
   "source": [
    "import keras"
   ]
  },
  {
   "cell_type": "code",
   "execution_count": 10,
   "metadata": {},
   "outputs": [
    {
     "name": "stdout",
     "output_type": "stream",
     "text": [
      "(9754, 10)\n",
      "(9754, 9)\n",
      "(9754, 10)\n",
      "(9754, 9)\n",
      "[   0.            0.            0.            0.            1.            0.\n",
      "    0.          450.           41.87279416  -87.66021702]\n",
      "[ 0.  1.  0.  0.  0.  0.  0.  0.  0.]\n",
      "[  1.00000000e+00   0.00000000e+00   0.00000000e+00   0.00000000e+00\n",
      "   0.00000000e+00   0.00000000e+00   0.00000000e+00   1.32000000e+03\n",
      "   4.19512451e+01  -8.76689724e+01]\n",
      "[ 0.  0.  0.  0.  0.  1.  0.  0.  0.]\n",
      "(5852, 10)\n",
      "(1950, 10)\n",
      "(1952, 10)\n"
     ]
    }
   ],
   "source": [
    "# dividing training data with 60-20-20 train-val-test split\n",
    "\n",
    "num_training = int(0.6 * X.shape[0])\n",
    "num_val_or_test = int(0.2 * X.shape[0])\n",
    "\n",
    "# shuffling with fixed seed\n",
    "\n",
    "seed = 42\n",
    "\n",
    "# create big matrix and shuffle to ensure that things get shuffled properly\n",
    "# see https://stackoverflow.com/questions/35646908/numpy-shuffle-multidimensional-array-by-row-only-keep-column-order-unchanged\n",
    "\n",
    "total = np.hstack((X,Y))\n",
    "\n",
    "np.random.seed(42)\n",
    "\n",
    "np.random.shuffle(total)\n",
    "\n",
    "print(X.shape)\n",
    "print(Y.shape)\n",
    "\n",
    "# split back apart to partition into training, validation, and test sets\n",
    "\n",
    "X_new = total[:,0:X.shape[1]]\n",
    "Y_new = total[:,X.shape[1]:]\n",
    "\n",
    "#X_new = X\n",
    "#Y_new = Y # lol\n",
    "\n",
    "print(X_new.shape)\n",
    "print(Y_new.shape)\n",
    "\n",
    "print(X[0])\n",
    "print(Y[0])\n",
    "print(X_new[0])\n",
    "print(Y_new[0])\n",
    "\n",
    "X_train = X_new[0:num_training,:]\n",
    "Y_train = Y_new[0:num_training,:]\n",
    "\n",
    "X_val = X_new[num_training:num_training+num_val_or_test,:]\n",
    "Y_val = Y_new[num_training:num_training+num_val_or_test,:]\n",
    "\n",
    "X_test = X_new[num_training+num_val_or_test:,:]\n",
    "Y_test = Y_new[num_training+num_val_or_test:,:]\n",
    "\n",
    "print(X_train.shape)\n",
    "print(X_val.shape)\n",
    "print(X_test.shape)"
   ]
  },
  {
   "cell_type": "code",
   "execution_count": null,
   "metadata": {
    "collapsed": true
   },
   "outputs": [],
   "source": [
    "import keras\n",
    "from keras.models import Sequential\n",
    "from keras.layers import Dense, Dropout\n",
    "from keras.optimizers import RMSprop, SGD, Adam\n",
    "#u ready for some neural nets?\n",
    "\n",
    "batch_size = 2048\n",
    "epochs = 5\n",
    "hidden_layers = 5\n",
    "units_per_layer = 100\n",
    "dropout_rate = 0.2\n",
    "\n",
    "model = Sequential()\n",
    "for i in range(hidden_layers):\n",
    "    if i == 0:\n",
    "        model.add(Dense(activation='relu', input_shape=(len(X[0]),), units=units_per_layer))\n",
    "    else:\n",
    "        model.add(Dense(activation='relu', units=units_per_layer))\n",
    "    model.add(Dropout(dropout_rate))\n",
    "\n",
    "model.add(Dense(activation='softmax',units=Y.shape[1]))\n",
    "\n",
    "model.summary()\n",
    "\n",
    "model.compile(loss='categorical_crossentropy',\n",
    "              optimizer=Adam(),\n",
    "              metrics=['accuracy'])\n",
    "\n",
    "history = model.fit(X_train, Y_train,\n",
    "                    batch_size=batch_size,\n",
    "                    epochs=epochs,\n",
    "                    verbose=1,\n",
    "                    validation_data=(X_val, Y_val))\n",
    "score = model.evaluate(X_test, Y_test, verbose=0)\n",
    "print('Test loss:', score[0])\n",
    "print('Test accuracy:', score[1])\n",
    "\n",
    "#this is kinda like witchcraft, so I'm just wrapping it in a function so it looks like it makes more sense\n",
    "def k_largest(k, arr):\n",
    "    return arr.argsort()[-k:][::-1]\n",
    "#array([4, 3, 1])\n",
    "\n",
    "predictions = model.predict(X_test)\n",
    "total = X_test.shape[0]\n",
    "correct_with_top_2 = 0\n",
    "correct_with_top_3 = 0\n",
    "for i in range(X_test.shape[0]):\n",
    "    pred = predictions[i,:]\n",
    "    top2 = k_largest(2, pred)\n",
    "    top3 = k_largest(3, pred)\n",
    "    found = False\n",
    "    for j in range(len(top2)):\n",
    "        if Y_test[i,:][top2[j]] == 1.0:\n",
    "            correct_with_top_2 += 1.0\n",
    "            correct_with_top_3 += 1.0\n",
    "            found = True\n",
    "            break\n",
    "    if found:\n",
    "        continue\n",
    "    if Y_test[i,:][top3[-1]] == 1.0:\n",
    "        correct_with_top_3 += 1.0\n",
    "            \n",
    "#print(Y_train[0])\n",
    "print('Test accuracy with top 2:', correct_with_top_2 / total)\n",
    "print('Test accuracy with top 3:', correct_with_top_3 / total)"
   ]
  },
  {
   "cell_type": "code",
   "execution_count": null,
   "metadata": {
    "collapsed": true
   },
   "outputs": [],
   "source": [
    "#bucket_sizes = [3,4,5,2,7,2,5,2,3]\n",
    "breakpoints = [3,7,12,14,21,23,28,30,33]\n",
    "Xs = [[],[],[],[],[],[],[],[],[]]\n",
    "Ys = [[],[],[],[],[],[],[],[],[]]\n",
    "\n",
    "for i in range(X.shape[0]):\n",
    "    index = np.argmax(Y[i,:])\n",
    "    for j in range(len(breakpoints)):\n",
    "        if index < breakpoints[j]:\n",
    "            Xs[j].append(X[i,:].reshape((1,X.shape[1])))\n",
    "            if j == 0:\n",
    "                Ys[j].append(Y[i,0:breakpoints[j]].reshape((1,breakpoints[j])))\n",
    "            else:\n",
    "                Ys[j].append(Y[i,breakpoints[j-1]:breakpoints[j]].reshape((1,breakpoints[j]-breakpoints[j-1])))\n",
    "            break\n",
    "# was going to handle the NON-CRIMINAL vs NON -CRIMINAL case but got lazy...\n",
    "#print(Xs[0][0])\n",
    "#print(Ys[0][4])\n",
    "X_arrs = []\n",
    "Y_arrs = []\n",
    "\n",
    "for i in range(len(Xs)):\n",
    "    X_arrs.append(np.concatenate(Xs[i],axis=0))\n",
    "    Y_arrs.append(np.concatenate(Ys[i],axis=0))\n",
    "    print(X_arrs[i].shape)\n",
    "    print(Y_arrs[i].shape)"
   ]
  },
  {
   "cell_type": "markdown",
   "metadata": {
    "collapsed": true
   },
   "source": [
    "## 5. Decision Tree"
   ]
  },
  {
   "cell_type": "code",
   "execution_count": null,
   "metadata": {
    "collapsed": true,
    "scrolled": true
   },
   "outputs": [],
   "source": [
    "from sklearn import tree\n",
    "import graphviz\n",
    "clf = tree.DecisionTreeClassifier()\n",
    "\n",
    "clf = clf.fit(X_train, Y_train)\n",
    "print(clf.score(X_test,Y_test))\n",
    "print(clf.score(X_train,Y_train))\n",
    "#dot_data = tree.export_graphviz(clf, out_file=None) \n",
    "#graph = graphviz.Source(dot_data) \n",
    "#graph.render(\"crime\") \n",
    "#graph"
   ]
  },
  {
   "cell_type": "code",
   "execution_count": null,
   "metadata": {
    "collapsed": true
   },
   "outputs": [],
   "source": [
    "best_layer_num = 0\n",
    "best_accuracy = 0\n",
    "best_class = None\n",
    "layers = np.arange(3,50)\n",
    "max_nodes = np.arange(Y_train.shape[1],5*Y_train.shape[1])\n",
    "for layer in layers:\n",
    "    clf = tree.DecisionTreeClassifier(criterion=\"entropy\", max_depth=layer)\n",
    "    clf = clf.fit(X_train, Y_train)\n",
    "    curr_acc = clf.score(X_val, Y_val)\n",
    "    if curr_acc > best_accuracy:\n",
    "        best_accuracy = curr_acc\n",
    "        best_class = clf\n",
    "        best_layer_num = layer\n",
    "\n",
    "print(best_layer_num)\n",
    "print(best_accuracy)\n",
    "print(X_decoder(X_train[0]))\n",
    "print(Y_decoder(Y_train[0]))\n",
    "dot_data = tree.export_graphviz(best_class, out_file=None) \n",
    "graph = graphviz.Source(dot_data) \n",
    "#graph.render(\"crime\") \n",
    "graph"
   ]
  },
  {
   "cell_type": "markdown",
   "metadata": {},
   "source": [
    "## 6. GMM (because why not)"
   ]
  },
  {
   "cell_type": "code",
   "execution_count": 53,
   "metadata": {},
   "outputs": [
    {
     "name": "stdout",
     "output_type": "stream",
     "text": [
      "-4.61822073274\n",
      "8\n",
      "[[  969.98142339    38.92185393   -90.0617833 ]\n",
      " [  242.96539252    41.84282459   -87.67184554]\n",
      " [  696.00104936    41.84111394   -87.67604066]\n",
      " [ 1341.2030634     41.84071577   -87.67287303]\n",
      " [ 1147.0822545     41.84030559   -87.67240264]\n",
      " [  897.95423791    41.83742675   -87.66660543]\n",
      " [   56.38904572    41.84976678   -87.67552146]\n",
      " [  511.33312722    41.84832755   -87.67365576]]\n",
      "['22:30', array([ 41.74258979, -87.57030975])]\n",
      "Actual: ['ROBBERY/BURGLARY/THEFT'] Predicted: 3\n",
      "Actual: ['ROBBERY/BURGLARY/THEFT'] Predicted: 5\n",
      "Actual: ['ASSAULT/VIOLENCE'] Predicted: 4\n",
      "Actual: ['DAMAGE/ARSON'] Predicted: 1\n",
      "Actual: ['ROBBERY/BURGLARY/THEFT'] Predicted: 2\n",
      "Actual: ['ROBBERY/BURGLARY/THEFT'] Predicted: 5\n",
      "Actual: ['DAMAGE/ARSON'] Predicted: 3\n",
      "Actual: ['ASSAULT/VIOLENCE'] Predicted: 4\n",
      "Actual: ['ROBBERY/BURGLARY/THEFT'] Predicted: 3\n",
      "Actual: ['ASSAULT/VIOLENCE'] Predicted: 2\n",
      "Actual: ['KIDNAPPING / CHILDREN'] Predicted: 6\n",
      "Actual: ['DAMAGE/ARSON'] Predicted: 5\n",
      "Actual: ['ROBBERY/BURGLARY/THEFT'] Predicted: 3\n",
      "Actual: ['NARCOTICS'] Predicted: 4\n",
      "Actual: ['NARCOTICS'] Predicted: 1\n",
      "Actual: ['ROBBERY/BURGLARY/THEFT'] Predicted: 4\n",
      "Actual: ['WEAPON-RELATED'] Predicted: 3\n",
      "Actual: ['ASSAULT/VIOLENCE'] Predicted: 7\n",
      "Actual: ['NARCOTICS'] Predicted: 3\n",
      "Actual: ['DAMAGE/ARSON'] Predicted: 4\n",
      "Actual: ['ROBBERY/BURGLARY/THEFT'] Predicted: 2\n",
      "Actual: ['DAMAGE/ARSON'] Predicted: 3\n",
      "Actual: ['ROBBERY/BURGLARY/THEFT'] Predicted: 5\n",
      "Actual: ['ROBBERY/BURGLARY/THEFT'] Predicted: 5\n",
      "Actual: ['PUBLIC-RELATED CRIME'] Predicted: 5\n",
      "Actual: ['DAMAGE/ARSON'] Predicted: 6\n",
      "Actual: ['ASSAULT/VIOLENCE'] Predicted: 2\n",
      "Actual: ['KIDNAPPING / CHILDREN'] Predicted: 3\n",
      "Actual: ['ROBBERY/BURGLARY/THEFT'] Predicted: 4\n",
      "Actual: ['ROBBERY/BURGLARY/THEFT'] Predicted: 3\n",
      "Actual: ['ASSAULT/VIOLENCE'] Predicted: 1\n",
      "Actual: ['OTHER/NON-CRIMINAL'] Predicted: 6\n",
      "Actual: ['ROBBERY/BURGLARY/THEFT'] Predicted: 4\n",
      "Actual: ['ASSAULT/VIOLENCE'] Predicted: 5\n",
      "Actual: ['ASSAULT/VIOLENCE'] Predicted: 6\n",
      "Actual: ['OTHER/NON-CRIMINAL'] Predicted: 2\n",
      "Actual: ['ASSAULT/VIOLENCE'] Predicted: 5\n",
      "Actual: ['ROBBERY/BURGLARY/THEFT'] Predicted: 4\n",
      "Actual: ['ASSAULT/VIOLENCE'] Predicted: 4\n",
      "Actual: ['ROBBERY/BURGLARY/THEFT'] Predicted: 4\n",
      "Actual: ['ROBBERY/BURGLARY/THEFT'] Predicted: 1\n",
      "Actual: ['DAMAGE/ARSON'] Predicted: 4\n",
      "Actual: ['OTHER/NON-CRIMINAL'] Predicted: 2\n",
      "Actual: ['PUBLIC-RELATED CRIME'] Predicted: 5\n",
      "Actual: ['ASSAULT/VIOLENCE'] Predicted: 5\n",
      "Actual: ['DAMAGE/ARSON'] Predicted: 4\n",
      "Actual: ['ROBBERY/BURGLARY/THEFT'] Predicted: 4\n",
      "Actual: ['NARCOTICS'] Predicted: 3\n",
      "Actual: ['ROBBERY/BURGLARY/THEFT'] Predicted: 3\n",
      "Actual: ['NARCOTICS'] Predicted: 6\n"
     ]
    }
   ],
   "source": [
    "from sklearn import mixture\n",
    "best_likelihood = -10000000\n",
    "best_gmm = None\n",
    "best_n = 0\n",
    "for i in range(2,9):\n",
    "    \n",
    "    gmm = mixture.GaussianMixture(n_components=i)\n",
    "    gmm.fit(X)\n",
    "    if gmm.score(X) > best_likelihood:\n",
    "        best_likelihood = gmm.score(X)\n",
    "        best_gmm = gmm\n",
    "        best_n = i\n",
    "        \n",
    "print(best_gmm.score(X))\n",
    "print(best_n)\n",
    "print(best_gmm.means_)\n",
    "print(X_decoder(X[0]))\n",
    "preds = best_gmm.predict(X)\n",
    "#print(preds)\n",
    "#print(Y)\n",
    "for i in range(preds[0:50].size):\n",
    "    print('Actual: ' + str(Y_decoder(Y[i])) + ' Predicted: ' + str(preds[i]))"
   ]
  },
  {
   "cell_type": "code",
   "execution_count": 3,
   "metadata": {},
   "outputs": [
    {
     "ename": "NameError",
     "evalue": "name 'X' is not defined",
     "output_type": "error",
     "traceback": [
      "\u001b[0;31m---------------------------------------------------------------------------\u001b[0m",
      "\u001b[0;31mNameError\u001b[0m                                 Traceback (most recent call last)",
      "\u001b[0;32m<ipython-input-3-a9522f93713a>\u001b[0m in \u001b[0;36m<module>\u001b[0;34m()\u001b[0m\n\u001b[1;32m     18\u001b[0m     \u001b[0;32mprint\u001b[0m\u001b[0;34m(\u001b[0m\u001b[0;34m\"Random uniform sampling test score\"\u001b[0m\u001b[0;34m,\u001b[0m \u001b[0mclf2\u001b[0m\u001b[0;34m.\u001b[0m\u001b[0mscore\u001b[0m\u001b[0;34m(\u001b[0m\u001b[0mX_test\u001b[0m\u001b[0;34m,\u001b[0m \u001b[0mY_test\u001b[0m\u001b[0;34m)\u001b[0m\u001b[0;34m)\u001b[0m\u001b[0;34m\u001b[0m\u001b[0m\n\u001b[1;32m     19\u001b[0m \u001b[0;34m\u001b[0m\u001b[0m\n\u001b[0;32m---> 20\u001b[0;31m \u001b[0;32mprint\u001b[0m \u001b[0mbaselines\u001b[0m\u001b[0;34m(\u001b[0m\u001b[0mX\u001b[0m\u001b[0;34m,\u001b[0m \u001b[0mY\u001b[0m\u001b[0;34m)\u001b[0m\u001b[0;34m\u001b[0m\u001b[0m\n\u001b[0m",
      "\u001b[0;31mNameError\u001b[0m: name 'X' is not defined"
     ]
    }
   ],
   "source": [
    "from sklearn.dummy import DummyClassifier\n",
    "def baselines(X, Y):\n",
    "    # Loading data\n",
    "    X_train = X[1:300]\n",
    "    Y_train = Y[1:300]\n",
    "    X_validate = X[300:500]\n",
    "    Y_validate = Y[300:500]\n",
    "    X_test = X[500:600]\n",
    "    Y_test = Y[500:600]\n",
    "    #majority vote\n",
    "    clf = DummyClassifier(strategy='most_frequent')\n",
    "    clf.fit(X_train, Y_train)\n",
    "    print(\"Majority Vote validation score\", clf.score(X_validate, Y_validate) )\n",
    "    print(\"Majority Vote test score\", clf.score(X_test, Y_test))\n",
    "    clf2 = DummyClassifier(strategy='uniform')\n",
    "    clf2.fit(X_train, Y_train)\n",
    "    print(\"Random uniform sampling validation score\", clf2.score(X_validate, Y_validate))\n",
    "    print(\"Random uniform sampling test score\", clf2.score(X_test, Y_test))\n",
    "\n",
    "baselines(X, Y)"
   ]
  },
  {
   "cell_type": "code",
   "execution_count": null,
   "metadata": {
    "collapsed": true
   },
   "outputs": [],
   "source": []
  }
 ],
 "metadata": {
  "kernelspec": {
   "display_name": "Python 2",
   "language": "python",
   "name": "python2"
  },
  "language_info": {
   "codemirror_mode": {
    "name": "ipython",
    "version": 2
   },
   "file_extension": ".py",
   "mimetype": "text/x-python",
   "name": "python",
   "nbconvert_exporter": "python",
   "pygments_lexer": "ipython2",
   "version": "2.7.11"
  }
 },
 "nbformat": 4,
 "nbformat_minor": 2
}
