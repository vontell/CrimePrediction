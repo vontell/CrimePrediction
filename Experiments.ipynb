{
 "cells": [
  {
   "cell_type": "markdown",
   "metadata": {},
   "source": [
    "# Crime Analysis and Prediction\n",
    "\n",
    "This file contains a set of experiments for analyzing and extrapolating data regarding crimes."
   ]
  },
  {
   "cell_type": "markdown",
   "metadata": {},
   "source": [
    "## 1. Data Loading and Sanitization"
   ]
  },
  {
   "cell_type": "code",
   "execution_count": 24,
   "metadata": {
    "scrolled": true
   },
   "outputs": [
    {
     "name": "stdout",
     "output_type": "stream",
     "text": [
      "Finished loading data\n"
     ]
    }
   ],
   "source": [
    "import csv, sys\n",
    "import matplotlib.pyplot as plt\n",
    "from helper import *\n",
    "import numpy as np\n",
    "\n",
    "def chicago_from(row, params=None):\n",
    "    '''\n",
    "    Method which takes a row from the chichago data and returns a Crime representing that row\n",
    "    '''\n",
    "    city = \"CHICAGO\"\n",
    "    date_intermediate = row[3].split(\" \")\n",
    "    date = date_intermediate[0]\n",
    "    day = get_day_of_week(date)\n",
    "    time = date_intermediate[1] + date_intermediate[2]\n",
    "    time_of_day = get_time_of_day(time)\n",
    "    crime = row[6]\n",
    "    location = (float(row[-2][2:]), float(row[-1][0:-2]))\n",
    "    return Crime(city, date, day, time, time_of_day, crime, None, None, None, location)\n",
    "     \n",
    "\n",
    "config = {\n",
    "    \"root_data\": \"data/\",\n",
    "    \"LA_crime\": \"crime-in-los-angeles/Crime_Data_2010_2017.csv\",\n",
    "    \"CH_crime\": \"crimes-in-chicago/Chicago_Crimes_2012_to_2017.csv\",\n",
    "    #\"LA_schema\": {'date': 2, 'time': 3, 'crime': 8, 'victim_age': 10, 'victim_sex': 11, 'weapon': 16, 'location': 25},\n",
    "    \"CH_schema\": chicago_from\n",
    "}\n",
    "\n",
    "# LA: ['DR Number', 'Date Reported', 'Date Occurred', 'Time Occurred', 'Area ID', 'Area Name', 'Reporting District', 'Crime Code', 'Crime Code Description', 'MO Codes', 'Victim Age', 'Victim Sex', 'Victim Descent', 'Premise Code', 'Premise Description', 'Weapon Used Code', 'Weapon Description', 'Status Code', 'Status Description', 'Crime Code 1', 'Crime Code 2', 'Crime Code 3', 'Crime Code 4', 'Address', 'Cross Street', 'Location']\n",
    "\n",
    "class Crime:\n",
    "    \n",
    "    def __init__(self, city, date, day, raw_time, time_of_day, crime, victim_age, victim_sex, weapon, location):\n",
    "        self.city = city\n",
    "        self.date = date\n",
    "        self.day = day\n",
    "        self.raw_time = raw_time\n",
    "        self.time_of_day = time_of_day\n",
    "        self.crime = crime\n",
    "        self.victim_age = victim_age\n",
    "        self.victim_sex = victim_sex\n",
    "        self.weapon = weapon\n",
    "        self.location = location\n",
    "        \n",
    "    def get_feature_vector(self):\n",
    "        '''\n",
    "        Returns a feature vector of [1-hot day vector, 1-hot time vector, crime, latitude, longitude]\n",
    "        Returned as strings due to the crime being a string. Age, sex, and weapon are omitted for now\n",
    "        since the Chicago data set does not include those.\n",
    "        '''\n",
    "        day_vec = self.day[0]\n",
    "        time_vec = self.time_of_day[0]\n",
    "        feature = np.concatenate((day_vec, time_vec))\n",
    "        others = np.array([self.crime, self.location[0], self.location[1]])\n",
    "        feature = np.concatenate((feature, others))\n",
    "        return feature\n",
    "        \n",
    "    def __str__(self):\n",
    "        return self.crime + \" in the \" + str(self.time_of_day) + \" on \" + str(self.day)\n",
    "        \n",
    "\n",
    "def load_data(force_refresh=False):\n",
    "    \n",
    "    #all_data = {\"LA\": [], \"CH\": []}\n",
    "    all_data = {\"CH\": []}\n",
    "    \n",
    "    for city in all_data.keys():\n",
    "        data_file = config[\"root_data\"] + config[city + \"_crime\"]\n",
    "        parse_from = config[city + \"_schema\"]\n",
    "        with open(data_file) as csvfile:\n",
    "            content = csvfile.readlines()\n",
    "            content = [x.strip() for x in content]\n",
    "            del content[0] # Remove the header\n",
    "            all_data[city].append([])\n",
    "            \n",
    "            # Save the number of possible rows available\n",
    "            all_data[city].append(len(content))\n",
    "            \n",
    "            count = 0\n",
    "            for row in content[0:2]:\n",
    "                try:\n",
    "                    d = row.split(\",\")\n",
    "                    new_crime = parse_from(d)\n",
    "                    all_data[city][0].append(new_crime)\n",
    "                except:\n",
    "                    #print(\"Unexpected error:\", sys.exc_info()[0])\n",
    "                    #raise\n",
    "                    count = count + 1\n",
    "                    \n",
    "            # Save the number of errored rows\n",
    "            all_data[city].append(count)\n",
    "            \n",
    "    return all_data\n",
    "\n",
    "results = load_data()\n",
    "print(\"Finished loading data\")"
   ]
  },
  {
   "cell_type": "code",
   "execution_count": 25,
   "metadata": {},
   "outputs": [
    {
     "name": "stdout",
     "output_type": "stream",
     "text": [
      "[['0.0' '1.0' '0.0' '0.0' '0.0' '0.0' '0.0' '0.0' '0.0' '1.0' '0.0'\n",
      "  'BATTERY' '41.864073157' '-87.706818608']\n",
      " ['0.0' '1.0' '0.0' '0.0' '0.0' '0.0' '0.0' '0.0' '0.0' '1.0' '0.0'\n",
      "  'BATTERY' '41.782921527' '-87.60436317']]\n",
      "['0.0' '1.0' '0.0' '0.0' '0.0' '0.0' '0.0' '0.0' '0.0' '1.0' '0.0'\n",
      " 'BATTERY' '41.782921527' '-87.60436317']\n"
     ]
    }
   ],
   "source": [
    "# A list of all Crime objects is found at results[\"CH\"][0]\n",
    "def get_feature_matrix(data):\n",
    "    '''\n",
    "    Returns a matrix where rows are feature vectors of \n",
    "    [1-hot day vector, 1-hot time vector, crime, latitude, longitude]\n",
    "    Returned as strings due to the crime being a string. Age, sex, and weapon are omitted for now\n",
    "    since the Chicago data set does not include those.\n",
    "    '''\n",
    "    return np.array([i.get_feature_vector() for i in data])\n",
    "\n",
    "# Analyze how many crime types there are\n",
    "def convert_crime_class_to_integer(data):\n",
    "    pass # Need to do this\n",
    "    #print(set([i.crime for i in results[\"CH\"][0]]))\n",
    "\n",
    "print(get_feature_matrix(results[\"CH\"][0]))\n",
    "print(results[\"CH\"][0][1].get_feature_vector())"
   ]
  },
  {
   "cell_type": "code",
   "execution_count": null,
   "metadata": {},
   "outputs": [],
   "source": []
  }
 ],
 "metadata": {
  "kernelspec": {
   "display_name": "Python 3",
   "language": "python",
   "name": "python3"
  },
  "language_info": {
   "codemirror_mode": {
    "name": "ipython",
    "version": 2
   },
   "file_extension": ".py",
   "mimetype": "text/x-python",
   "name": "python",
   "nbconvert_exporter": "python",
   "pygments_lexer": "ipython2",
   "version": "2.7.10"
  }
 },
 "nbformat": 4,
 "nbformat_minor": 2
}
