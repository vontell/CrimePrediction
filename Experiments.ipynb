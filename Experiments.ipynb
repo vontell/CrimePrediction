{
 "cells": [
  {
   "cell_type": "markdown",
   "metadata": {},
   "source": [
    "# Crime Analysis and Prediction\n",
    "\n",
    "This file contains a set of experiments for analyzing and extrapolating data regarding crimes."
   ]
  },
  {
   "cell_type": "markdown",
   "metadata": {},
   "source": [
    "## 1. Data Loading and Sanitization"
   ]
  },
  {
   "cell_type": "code",
   "execution_count": 101,
   "metadata": {},
   "outputs": [
    {
     "name": "stdout",
     "output_type": "stream",
     "text": [
      "1456714\n"
     ]
    }
   ],
   "source": [
    "import csv\n",
    "import matplotlib.pyplot as plt\n",
    "\n",
    "def chicago_from(row, params=None):\n",
    "    '''\n",
    "    Method which takes a row from the chichago data and returns a Crime representing that row\n",
    "    '''\n",
    "    city = \"CHICAGO\"\n",
    "    date_intermediate = row[3].split(\" \")\n",
    "    date = date_intermediate[0]\n",
    "    time = date_intermediate[1] + date_intermediate[2]\n",
    "    crime = row[6]\n",
    "    location = (float(row[-2][2:]), float(row[-1][0:-2]))\n",
    "    return Crime(city, date, time, crime, None, None, None, location)\n",
    "     \n",
    "\n",
    "config = {\n",
    "    \"root_data\": \"data/\",\n",
    "    \"LA_crime\": \"crime-in-los-angeles/Crime_Data_2010_2017.csv\",\n",
    "    \"CH_crime\": \"crimes-in-chicago/Chicago_Crimes_2012_to_2017.csv\",\n",
    "    #\"LA_schema\": {'date': 2, 'time': 3, 'crime': 8, 'victim_age': 10, 'victim_sex': 11, 'weapon': 16, 'location': 25},\n",
    "    \"CH_schema\": chicago_from\n",
    "}\n",
    "\n",
    "# LA: ['DR Number', 'Date Reported', 'Date Occurred', 'Time Occurred', 'Area ID', 'Area Name', 'Reporting District', 'Crime Code', 'Crime Code Description', 'MO Codes', 'Victim Age', 'Victim Sex', 'Victim Descent', 'Premise Code', 'Premise Description', 'Weapon Used Code', 'Weapon Description', 'Status Code', 'Status Description', 'Crime Code 1', 'Crime Code 2', 'Crime Code 3', 'Crime Code 4', 'Address', 'Cross Street', 'Location']\n",
    "\n",
    "class Crime:\n",
    "    \n",
    "    def __init__(self, city, date, time, crime, victim_age, victim_sex, weapon, location):\n",
    "        self.city = city\n",
    "        self.date = date\n",
    "        self.time = time\n",
    "        self.crime = crime\n",
    "        self.victim_age = victim_age\n",
    "        self.victim_sex = victim_sex\n",
    "        self.weapon = weapon\n",
    "        self.location = location\n",
    "        \n",
    "    def __str__(self):\n",
    "        return self.crime + \" at \" + str(self.time)\n",
    "        \n",
    "\n",
    "def load_data(force_refresh=False):\n",
    "    \n",
    "    #all_data = {\"LA\": [], \"CH\": []}\n",
    "    all_data = {\"CH\": []}\n",
    "    \n",
    "    for city in all_data.keys():\n",
    "        data_file = config[\"root_data\"] + config[city + \"_crime\"]\n",
    "        parse_from = config[city + \"_schema\"]\n",
    "        with open(data_file) as csvfile:\n",
    "            content = csvfile.readlines()\n",
    "            content = [x.strip() for x in content]\n",
    "            del content[0] # Remove the header\n",
    "            all_data[city].append([])\n",
    "            \n",
    "            # Save the number of possible rows available\n",
    "            all_data[city].append(len(content))\n",
    "            \n",
    "            count = 0\n",
    "            for row in content:\n",
    "                try:\n",
    "                    d = row.split(\",\")\n",
    "                    new_crime = parse_from(d)\n",
    "                    all_data[city][0].append(new_crime)\n",
    "                except:\n",
    "                    count = count + 1\n",
    "                    \n",
    "            # Save the number of errored rows\n",
    "            all_data[city].append(count)\n",
    "            \n",
    "    return all_data\n",
    "\n",
    "results = load_data()\n",
    "print(results[\"CH\"][1])"
   ]
  },
  {
   "cell_type": "code",
   "execution_count": 104,
   "metadata": {},
   "outputs": [
    {
     "data": {
      "image/png": "[encoded data removed]",
      "text/plain": [
       "<matplotlib.figure.Figure at 0x14c747a50>"
      ]
     },
     "metadata": {},
     "output_type": "display_data"
    }
   ],
   "source": [
    "# Some quick analysis of the data we have loaded\n",
    "buckets = [0]*(24) # Buckets for each half hour (i.e. 00:00 - 00:30)\n",
    "for crime in results[\"CH\"][0]:\n",
    "    time = str(crime.time)\n",
    "    mod = 2 if \"PM\" in time else 1 # This could be made faster\n",
    "    comps = time.split(\":\")\n",
    "    bucket = ((int(comps[0]) - 1) * mod * 60 + int(comps[1])) / 60\n",
    "    buckets[bucket] += 1\n",
    "\n",
    "plt.bar(range(len(buckets)), buckets)\n",
    "plt.show()"
   ]
  },
  {
   "cell_type": "code",
   "execution_count": null,
   "metadata": {},
   "outputs": [],
   "source": []
  }
 ],
 "metadata": {
  "kernelspec": {
   "display_name": "Python 3",
   "language": "python",
   "name": "python3"
  },
  "language_info": {
   "codemirror_mode": {
    "name": "ipython",
    "version": 2
   },
   "file_extension": ".py",
   "mimetype": "text/x-python",
   "name": "python",
   "nbconvert_exporter": "python",
   "pygments_lexer": "ipython2",
   "version": "2.7.10"
  }
 },
 "nbformat": 4,
 "nbformat_minor": 2
}
