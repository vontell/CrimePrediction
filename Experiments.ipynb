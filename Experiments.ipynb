{
 "cells": [
  {
   "cell_type": "markdown",
   "metadata": {},
   "source": [
    "# Crime Analysis and Prediction\n",
    "\n",
    "This file contains a set of experiments for analyzing and extrapolating data regarding crimes."
   ]
  },
  {
   "cell_type": "markdown",
   "metadata": {},
   "source": [
    "## 1. Data Loading and Sanitization"
   ]
  },
  {
   "cell_type": "code",
   "execution_count": 2,
   "metadata": {
    "scrolled": true
   },
   "outputs": [
    {
     "name": "stdout",
     "output_type": "stream",
     "text": [
      "Loading crime data\n",
      "Finished loading crime data\n",
      "Now loading social / economics data\n",
      "WARNING: THIS IS HARDCODED TO WORK WITH CHICAGO ONLY\n",
      "Finished loading Chicago social data\n",
      "Creating X feature matrix\n",
      "Creating Y feature matrix\n",
      "Featurization complete\n",
      "Featurization achieved\n"
     ]
    }
   ],
   "source": [
    "import matplotlib.pyplot as plt\n",
    "from sklearn.neighbors import KNeighborsClassifier\n",
    "from sklearn.linear_model import LogisticRegression\n",
    "from data import CrimeLoader\n",
    "import numpy as np\n",
    "\n",
    "# Crime loader now handles all of the data saving and parsing\n",
    "#    force_refresh - If true, will read from the original files rather than a saved pickle file\n",
    "#    force_save - If true, will save any loaded data into a pickle for later loading\n",
    "#    data_limit - The number of crimes to load (used for speedup)\n",
    "data = CrimeLoader()\n",
    "data.load_data(force_refresh=True, force_save=False, data_limit=100000, randomize=True)\n",
    "\n",
    "# List of possible features to include:\n",
    "#    day                - Day of the week (ex: SUN - SAT) 1-hot encoded\n",
    "#    time               - Time of day (ex: Morning, Afternoon, Evening, Late Night) 1-hot encoded\n",
    "#    time min           - Time in minutes (ex: 1420 minutes) Integer value (not 1-hot encoded)\n",
    "#    hour               - Time in hour (ex: 13) Integer value (not 1-hot encoded)\n",
    "#    location           - Location of crime, (ex: lat, long) 2 float values\n",
    "#    location normalized - Location of crime [0,1]\n",
    "#    crime condensed    - Encoding of crime, 1-hot encoded of length 9 (?)\n",
    "#    crime full         - Encoding of crime, 1-hot encoded of length ~ 30\n",
    "#    neighborhood       - Neighborhood of the crime (1-hot encoded, length 77)\n",
    "#    below poverty count - A number representing the rate of people below the poverty level\n",
    "#    crowded            - Crowding rate\n",
    "#    no diploma         - No diploma rate\n",
    "#    income             - Per capita income in that neighborhood\n",
    "#    unemployment       - Unemployment percentage for that neighborhood\n",
    "#    all                - Some combination of the above (see source)\n",
    "\n",
    "#X_features = [\"time min\"]\n",
    "X_features = [\"income\", \"below poverty count\", \"no diploma\", \"unemployment\", \"time min\", \"location normalized\"]\n",
    "#X_features = [\"income\"]\n",
    "#X_features = [\"income\", \"time min\"]\n",
    "Y_features = [\"crime condensed\"]\n",
    "X, Y, X_decoder, Y_decoder = data.get_workable_data(X_features, Y_features)\n",
    "print(\"Featurization achieved\")"
   ]
  },
  {
   "cell_type": "markdown",
   "metadata": {},
   "source": [
    "## 2. K-Nearest Neighbors"
   ]
  },
  {
   "cell_type": "code",
   "execution_count": 3,
   "metadata": {
    "collapsed": true
   },
   "outputs": [],
   "source": [
    "def train_KNN(feature_matrix, targets, n):\n",
    "    knn = KNeighborsClassifier(n_neighbors=n)\n",
    "    Y = np.zeros(targets.shape[0])\n",
    "    for i in range(targets.shape[0]):\n",
    "        Y[i] = np.argmax(targets[i])\n",
    "    knn.fit(feature_matrix,Y)\n",
    "    return knn\n"
   ]
  },
  {
   "cell_type": "code",
   "execution_count": 4,
   "metadata": {
    "collapsed": true
   },
   "outputs": [],
   "source": [
    "def int_to_category(prediction):\n",
    "    categories = [\"KIDNAPPING / CHILDREN\",\"ROBBERY/BURGLARY/THEFT\",\"ASSAULT/VIOLENCE\",\"NARCOTICS\",\"PUBLIC-RELATED CRIME\",\"DAMAGE/ARSON\",\"OTHER/NON-CRIMINAL\",\"WEAPON-RELATED\",\"PROHIBITIVE CRIME\"]\n",
    "    return categories[int(prediction)]\n"
   ]
  },
  {
   "cell_type": "code",
   "execution_count": 5,
   "metadata": {
    "scrolled": true
   },
   "outputs": [
    {
     "name": "stdout",
     "output_type": "stream",
     "text": [
      "(97538, 7)\n",
      "Validation set Performance with k = 1:0.267\n",
      "Validation set Performance with k = 2:0.327\n",
      "Validation set Performance with k = 3:0.311\n",
      "Validation set Performance with k = 4:0.318\n",
      "Validation set Performance with k = 5:0.326\n",
      "Validation set Performance with k = 6:0.331\n",
      "Validation set Performance with k = 7:0.304\n",
      "Validation set Performance with k = 8:0.309\n",
      "Validation set Performance with k = 9:0.317\n",
      "Validation set Performance with k = 10:0.339\n",
      "Validation set Performance with k = 11:0.342\n",
      "Validation set Performance with k = 12:0.324\n",
      "Validation set Performance with k = 13:0.329\n",
      "Validation set Performance with k = 14:0.333\n",
      "Validation set Performance with k = 15:0.34\n",
      "Validation set Performance with k = 16:0.345\n",
      "Validation set Performance with k = 17:0.354\n",
      "Validation set Performance with k = 18:0.36\n",
      "Validation set Performance with k = 19:0.358\n",
      "Validation set Performance with k = 20:0.373\n",
      "Validation set Performance with k = 21:0.372\n",
      "Validation set Performance with k = 22:0.38\n",
      "Validation set Performance with k = 23:0.38\n",
      "Validation set Performance with k = 24:0.374\n",
      "Validation set Performance with k = 25:0.381\n",
      "Validation set Performance with k = 26:0.372\n",
      "Validation set Performance with k = 27:0.364\n",
      "Validation set Performance with k = 28:0.37\n",
      "Validation set Performance with k = 29:0.379\n",
      "Validation set Performance with k = 30:0.383\n",
      "Validation set Performance with k = 31:0.368\n",
      "Validation set Performance with k = 32:0.369\n",
      "Validation set Performance with k = 33:0.375\n",
      "Validation set Performance with k = 34:0.374\n"
     ]
    },
    {
     "data": {
      "image/png": "[encoded data removed]",
      "text/plain": [
       "<matplotlib.figure.Figure at 0x134aabed0>"
      ]
     },
     "metadata": {},
     "output_type": "display_data"
    },
    {
     "name": "stdout",
     "output_type": "stream",
     "text": [
      "Test set Performance with k = 30:  0.351\n",
      "Validation set Performance with k = 1:0.266\n",
      "Validation set Performance with k = 2:0.312\n",
      "Validation set Performance with k = 3:0.316\n",
      "Validation set Performance with k = 4:0.324\n",
      "Validation set Performance with k = 5:0.324\n",
      "Validation set Performance with k = 6:0.333\n",
      "Validation set Performance with k = 7:0.339\n",
      "Validation set Performance with k = 8:0.32\n",
      "Validation set Performance with k = 9:0.328\n",
      "Validation set Performance with k = 10:0.321\n",
      "Validation set Performance with k = 11:0.333\n",
      "Validation set Performance with k = 12:0.336\n",
      "Validation set Performance with k = 13:0.336\n",
      "Validation set Performance with k = 14:0.341\n",
      "Validation set Performance with k = 15:0.34\n",
      "Validation set Performance with k = 16:0.337\n",
      "Validation set Performance with k = 17:0.346\n",
      "Validation set Performance with k = 18:0.35\n",
      "Validation set Performance with k = 19:0.353\n",
      "Validation set Performance with k = 20:0.355\n",
      "Validation set Performance with k = 21:0.351\n",
      "Validation set Performance with k = 22:0.355\n",
      "Validation set Performance with k = 23:0.36\n",
      "Validation set Performance with k = 24:0.355\n",
      "Validation set Performance with k = 25:0.355\n",
      "Validation set Performance with k = 26:0.362\n",
      "Validation set Performance with k = 27:0.358\n",
      "Validation set Performance with k = 28:0.367\n",
      "Validation set Performance with k = 29:0.357\n",
      "Validation set Performance with k = 30:0.361\n",
      "Validation set Performance with k = 31:0.354\n",
      "Validation set Performance with k = 32:0.358\n",
      "Validation set Performance with k = 33:0.357\n",
      "Validation set Performance with k = 34:0.359\n"
     ]
    },
    {
     "data": {
      "image/png": "[encoded data removed]",
      "text/plain": [
       "<matplotlib.figure.Figure at 0x10856bb10>"
      ]
     },
     "metadata": {},
     "output_type": "display_data"
    },
    {
     "name": "stdout",
     "output_type": "stream",
     "text": [
      "Test set Performance with k = 28:  0.367\n",
      "Validation set Performance with k = 1:0.299\n",
      "Validation set Performance with k = 2:0.365\n",
      "Validation set Performance with k = 3:0.379\n",
      "Validation set Performance with k = 4:0.372\n",
      "Validation set Performance with k = 5:0.381\n",
      "Validation set Performance with k = 6:0.381\n",
      "Validation set Performance with k = 7:0.383\n",
      "Validation set Performance with k = 8:0.378\n",
      "Validation set Performance with k = 9:0.385\n",
      "Validation set Performance with k = 10:0.393\n",
      "Validation set Performance with k = 11:0.398\n",
      "Validation set Performance with k = 12:0.406\n",
      "Validation set Performance with k = 13:0.4\n",
      "Validation set Performance with k = 14:0.4\n",
      "Validation set Performance with k = 15:0.402\n",
      "Validation set Performance with k = 16:0.411\n",
      "Validation set Performance with k = 17:0.406\n",
      "Validation set Performance with k = 18:0.407\n",
      "Validation set Performance with k = 19:0.407\n",
      "Validation set Performance with k = 20:0.409\n",
      "Validation set Performance with k = 21:0.414\n",
      "Validation set Performance with k = 22:0.412\n",
      "Validation set Performance with k = 23:0.409\n",
      "Validation set Performance with k = 24:0.412\n",
      "Validation set Performance with k = 25:0.412\n",
      "Validation set Performance with k = 26:0.408\n",
      "Validation set Performance with k = 27:0.407\n",
      "Validation set Performance with k = 28:0.416\n",
      "Validation set Performance with k = 29:0.418\n",
      "Validation set Performance with k = 30:0.424\n",
      "Validation set Performance with k = 31:0.428\n",
      "Validation set Performance with k = 32:0.423\n",
      "Validation set Performance with k = 33:0.423\n",
      "Validation set Performance with k = 34:0.427\n"
     ]
    },
    {
     "data": {
      "image/png": "[encoded data removed]",
      "text/plain": [
       "<matplotlib.figure.Figure at 0x139a09ad0>"
      ]
     },
     "metadata": {},
     "output_type": "display_data"
    },
    {
     "name": "stdout",
     "output_type": "stream",
     "text": [
      "Test set Performance with k = 31:  0.363\n",
      "Validation set Performance with k = 1:0.285\n",
      "Validation set Performance with k = 2:0.347\n",
      "Validation set Performance with k = 3:0.339\n",
      "Validation set Performance with k = 4:0.359\n",
      "Validation set Performance with k = 5:0.378\n",
      "Validation set Performance with k = 6:0.372\n",
      "Validation set Performance with k = 7:0.364\n",
      "Validation set Performance with k = 8:0.37\n",
      "Validation set Performance with k = 9:0.383\n",
      "Validation set Performance with k = 10:0.383\n",
      "Validation set Performance with k = 11:0.386\n",
      "Validation set Performance with k = 12:0.386\n",
      "Validation set Performance with k = 13:0.384\n",
      "Validation set Performance with k = 14:0.377\n",
      "Validation set Performance with k = 15:0.386\n",
      "Validation set Performance with k = 16:0.388\n",
      "Validation set Performance with k = 17:0.393\n",
      "Validation set Performance with k = 18:0.392\n",
      "Validation set Performance with k = 19:0.395\n",
      "Validation set Performance with k = 20:0.401\n",
      "Validation set Performance with k = 21:0.395\n",
      "Validation set Performance with k = 22:0.391\n",
      "Validation set Performance with k = 23:0.397\n",
      "Validation set Performance with k = 24:0.398\n",
      "Validation set Performance with k = 25:0.399\n",
      "Validation set Performance with k = 26:0.396\n",
      "Validation set Performance with k = 27:0.399\n",
      "Validation set Performance with k = 28:0.396\n",
      "Validation set Performance with k = 29:0.403\n",
      "Validation set Performance with k = 30:0.409\n",
      "Validation set Performance with k = 31:0.409\n",
      "Validation set Performance with k = 32:0.404\n",
      "Validation set Performance with k = 33:0.408\n",
      "Validation set Performance with k = 34:0.406\n"
     ]
    },
    {
     "data": {
      "image/png": "[encoded data removed]",
      "text/plain": [
       "<matplotlib.figure.Figure at 0x13956ebd0>"
      ]
     },
     "metadata": {},
     "output_type": "display_data"
    },
    {
     "name": "stdout",
     "output_type": "stream",
     "text": [
      "Test set Performance with k = 30:  0.409\n",
      "Validation set Performance with k = 1:0.29\n",
      "Validation set Performance with k = 2:0.36\n",
      "Validation set Performance with k = 3:0.346\n",
      "Validation set Performance with k = 4:0.357\n",
      "Validation set Performance with k = 5:0.368\n",
      "Validation set Performance with k = 6:0.369\n",
      "Validation set Performance with k = 7:0.365\n",
      "Validation set Performance with k = 8:0.378\n",
      "Validation set Performance with k = 9:0.384\n",
      "Validation set Performance with k = 10:0.384\n",
      "Validation set Performance with k = 11:0.387\n",
      "Validation set Performance with k = 12:0.383\n",
      "Validation set Performance with k = 13:0.391\n",
      "Validation set Performance with k = 14:0.387\n",
      "Validation set Performance with k = 15:0.39\n",
      "Validation set Performance with k = 16:0.393\n",
      "Validation set Performance with k = 17:0.383\n",
      "Validation set Performance with k = 18:0.386\n",
      "Validation set Performance with k = 19:0.397\n",
      "Validation set Performance with k = 20:0.401\n",
      "Validation set Performance with k = 21:0.4\n",
      "Validation set Performance with k = 22:0.403\n",
      "Validation set Performance with k = 23:0.406\n",
      "Validation set Performance with k = 24:0.411\n",
      "Validation set Performance with k = 25:0.408\n",
      "Validation set Performance with k = 26:0.412\n",
      "Validation set Performance with k = 27:0.412\n",
      "Validation set Performance with k = 28:0.413\n",
      "Validation set Performance with k = 29:0.409\n",
      "Validation set Performance with k = 30:0.413\n",
      "Validation set Performance with k = 31:0.41\n",
      "Validation set Performance with k = 32:0.41\n",
      "Validation set Performance with k = 33:0.408\n",
      "Validation set Performance with k = 34:0.412\n"
     ]
    },
    {
     "data": {
      "image/png": "[encoded data removed]",
      "text/plain": [
       "<matplotlib.figure.Figure at 0x137682090>"
      ]
     },
     "metadata": {},
     "output_type": "display_data"
    },
    {
     "name": "stdout",
     "output_type": "stream",
     "text": [
      "Test set Performance with k = 28:  0.38\n"
     ]
    }
   ],
   "source": [
    "def evaluate_KNN(X, Y):\n",
    "    for i in [100, 1000, 10000, 50000, 60000]:\n",
    "        # Loading data\n",
    "        X_train = X[1:i]\n",
    "        Y_train = Y[1:i]\n",
    "        X_validate = X[i:i+1000]\n",
    "        Y_validate = Y[i:i+1000]\n",
    "        X_test = X[i+1000:i+2000]\n",
    "        Y_test = Y[i+1000:i+2000]\n",
    "\n",
    "        #Tuning on the validation set for value of K\n",
    "        K = [k for k in range(1,35)]\n",
    "        best_K = 0\n",
    "        max_score = 0.0\n",
    "        x_values = []\n",
    "        y_values = []\n",
    "        for k in K:\n",
    "            knn = train_KNN(X_train, Y_train, k)\n",
    "            predictions = knn.predict(X_validate)\n",
    "            correct = 0.0\n",
    "            for i in range(predictions.shape[0]):\n",
    "                if int_to_category(predictions[i]) == Y_decoder(Y_validate[i])[0]:\n",
    "                    correct += 1.0\n",
    "            y_values.append(correct/predictions.shape[0])\n",
    "            x_values.append(k)\n",
    "            if correct > max_score:\n",
    "                max_score = correct\n",
    "                best_K = k\n",
    "            print(\"Validation set Performance with k = \" + str(k) + \":\" + str(correct/predictions.shape[0]))\n",
    "        plt.plot(x_values, y_values)\n",
    "        plt.xlabel(\"Value of K\")\n",
    "        plt.ylabel(\"Percent Accuracy\")\n",
    "        plt.show()\n",
    "        #Evaluating on Test set with best K value\n",
    "        knn = train_KNN(X_train, Y_train, best_K)\n",
    "        predictions = knn.predict(X_test)\n",
    "        correct = 0.0\n",
    "        for i in range(predictions.shape[0]):\n",
    "            if int_to_category(predictions[i]) == Y_decoder(Y_test[i])[0]:\n",
    "                correct += 1.0\n",
    "        if correct > max_score:\n",
    "            max_score = correct\n",
    "            best_K = k\n",
    "        print(\"Test set Performance with k = \" + str(best_K) + \":  \" + str(correct/predictions.shape[0]))\n",
    "\n",
    "print(X.shape)\n",
    "evaluate_KNN(X, Y)       \n",
    "        \n",
    "    \n",
    "    \n",
    "    \n",
    "    "
   ]
  },
  {
   "cell_type": "code",
   "execution_count": 6,
   "metadata": {
    "collapsed": true
   },
   "outputs": [],
   "source": [
    "def train_MaxEnt(feature_matrix, targets, c):\n",
    "    maxEnt = LogisticRegression(C = c)\n",
    "    maxEnt.fit(feature_matrix,targets)\n",
    "    return maxEnt"
   ]
  },
  {
   "cell_type": "code",
   "execution_count": 7,
   "metadata": {},
   "outputs": [
    {
     "name": "stdout",
     "output_type": "stream",
     "text": [
      "Validation set Performance with C = 0.001:0.361\n",
      "Validation set Performance with C = 0.01:0.36\n",
      "Validation set Performance with C = 0.1:0.351\n",
      "Validation set Performance with C = 1.0:0.352\n",
      "Validation set Performance with C = 2.0:0.352\n",
      "Validation set Performance with C = 5.0:0.352\n",
      "Validation set Performance with C = 10.0:0.352\n",
      "Validation set Performance with C = 20:0.352\n",
      "Validation set Performance with C = 30:0.352\n",
      "Validation set Performance with C = 40:0.352\n",
      "Validation set Performance with C = 50:0.352\n"
     ]
    },
    {
     "data": {
      "image/png": "[encoded data removed]",
      "text/plain": [
       "<matplotlib.figure.Figure at 0x109419590>"
      ]
     },
     "metadata": {},
     "output_type": "display_data"
    },
    {
     "name": "stdout",
     "output_type": "stream",
     "text": [
      "Test set Performance with C = 0.001:  0.362\n",
      "Validation set Performance with C = 0.001:0.361\n",
      "Validation set Performance with C = 0.01:0.364\n",
      "Validation set Performance with C = 0.1:0.365\n",
      "Validation set Performance with C = 1.0:0.365\n",
      "Validation set Performance with C = 2.0:0.365\n",
      "Validation set Performance with C = 5.0:0.365\n",
      "Validation set Performance with C = 10.0:0.365\n",
      "Validation set Performance with C = 20:0.365\n",
      "Validation set Performance with C = 30:0.365\n",
      "Validation set Performance with C = 40:0.365\n",
      "Validation set Performance with C = 50:0.365\n"
     ]
    },
    {
     "data": {
      "image/png": "[encoded data removed]",
      "text/plain": [
       "<matplotlib.figure.Figure at 0x12b0d4e10>"
      ]
     },
     "metadata": {},
     "output_type": "display_data"
    },
    {
     "name": "stdout",
     "output_type": "stream",
     "text": [
      "Test set Performance with C = 0.1:  0.364\n",
      "Validation set Performance with C = 0.001:0.416\n",
      "Validation set Performance with C = 0.01:0.416\n",
      "Validation set Performance with C = 0.1:0.416\n",
      "Validation set Performance with C = 1.0:0.416\n",
      "Validation set Performance with C = 2.0:0.416\n",
      "Validation set Performance with C = 5.0:0.416\n",
      "Validation set Performance with C = 10.0:0.416\n",
      "Validation set Performance with C = 20:0.416\n",
      "Validation set Performance with C = 30:0.416\n",
      "Validation set Performance with C = 40:0.416\n",
      "Validation set Performance with C = 50:0.416\n"
     ]
    },
    {
     "data": {
      "image/png": "[encoded data removed]",
      "text/plain": [
       "<matplotlib.figure.Figure at 0x12eb33290>"
      ]
     },
     "metadata": {},
     "output_type": "display_data"
    },
    {
     "name": "stdout",
     "output_type": "stream",
     "text": [
      "Test set Performance with C = 0.001:  0.372\n",
      "Validation set Performance with C = 0.001:0.378\n",
      "Validation set Performance with C = 0.01:0.378\n",
      "Validation set Performance with C = 0.1:0.378\n",
      "Validation set Performance with C = 1.0:0.378\n",
      "Validation set Performance with C = 2.0:0.378\n",
      "Validation set Performance with C = 5.0:0.378\n",
      "Validation set Performance with C = 10.0:0.378\n",
      "Validation set Performance with C = 20:0.378\n",
      "Validation set Performance with C = 30:0.378\n",
      "Validation set Performance with C = 40:0.378\n",
      "Validation set Performance with C = 50:0.378\n"
     ]
    },
    {
     "data": {
      "image/png": "[encoded data removed]",
      "text/plain": [
       "<matplotlib.figure.Figure at 0x13769be90>"
      ]
     },
     "metadata": {},
     "output_type": "display_data"
    },
    {
     "name": "stdout",
     "output_type": "stream",
     "text": [
      "Test set Performance with C = 0.001:  0.382\n",
      "Validation set Performance with C = 0.001:0.409\n",
      "Validation set Performance with C = 0.01:0.409\n",
      "Validation set Performance with C = 0.1:0.409\n",
      "Validation set Performance with C = 1.0:0.409\n",
      "Validation set Performance with C = 2.0:0.409\n",
      "Validation set Performance with C = 5.0:0.409\n",
      "Validation set Performance with C = 10.0:0.409\n",
      "Validation set Performance with C = 20:0.409\n",
      "Validation set Performance with C = 30:0.409\n",
      "Validation set Performance with C = 40:0.409\n",
      "Validation set Performance with C = 50:0.409\n"
     ]
    },
    {
     "data": {
      "image/png": "[encoded data removed]",
      "text/plain": [
       "<matplotlib.figure.Figure at 0x127c40310>"
      ]
     },
     "metadata": {},
     "output_type": "display_data"
    },
    {
     "name": "stdout",
     "output_type": "stream",
     "text": [
      "Test set Performance with C = 0.001:  0.346\n"
     ]
    }
   ],
   "source": [
    "def evaluate_MaxEnt(X, Y):\n",
    "    for i in [100, 1000, 10000, 50000, 60000]:\n",
    "        # Loading data\n",
    "        X_train = X[1:i]\n",
    "        Y_train = Y[1:i]\n",
    "        X_validate = X[i:i+1000]\n",
    "        Y_validate = Y[i:i+1000]\n",
    "        X_test = X[i+1000:i+2000]\n",
    "        Y_test = Y[i+1000:i+2000]\n",
    "\n",
    "        train_targets = np.zeros(Y_train.shape[0])\n",
    "        for i in range(Y_train.shape[0]):\n",
    "            train_targets[i] = np.argmax(Y_train[i])\n",
    "        validation_targets = np.zeros(Y_validate.shape[0])\n",
    "        for i in range(Y_validate.shape[0]):\n",
    "            validation_targets[i] = np.argmax(Y_validate[i])\n",
    "        test_targets = np.zeros(Y_test.shape[0])\n",
    "        for i in range(Y_test.shape[0]):\n",
    "            test_targets[i] = np.argmax(Y_test[i])\n",
    "\n",
    "\n",
    "\n",
    "        #Tuning on the validation set for value of C\n",
    "        C = [.001, .01, .1, 1.0, 2.0, 5.0, 10.0, 20, 30, 40, 50]\n",
    "        best_C = 0\n",
    "        max_score = 0.0\n",
    "        x_values = []\n",
    "        y_values = []\n",
    "        for c in C:\n",
    "            maxEnt = train_MaxEnt(X_train, train_targets, c)\n",
    "\n",
    "            score = maxEnt.score(X_validate, validation_targets)\n",
    "            x_values.append(c)\n",
    "            y_values.append(score)\n",
    "            if score > max_score:\n",
    "                max_score = score\n",
    "                best_C = c\n",
    "            print(\"Validation set Performance with C = \" + str(c) + \":\" + str(score))\n",
    "        plt.plot(x_values, y_values)\n",
    "        plt.xlabel(\"Value of C\")\n",
    "        plt.ylabel(\"Percent Accuracy\")\n",
    "        plt.show()\n",
    "        #Evaluating on Test set with best K value\n",
    "        maxEnt = train_MaxEnt(X_train, train_targets, .001)\n",
    "        test_score = maxEnt.score(X_test, test_targets)\n",
    "        print(\"Test set Performance with C = \" + str(best_C) + \":  \" + str(test_score))\n",
    "\n",
    "evaluate_MaxEnt(X, Y)       \n",
    "    "
   ]
  },
  {
   "cell_type": "markdown",
   "metadata": {},
   "source": [
    "## 4. Neural Network"
   ]
  },
  {
   "cell_type": "code",
   "execution_count": 26,
   "metadata": {},
   "outputs": [
    {
     "ename": "ImportError",
     "evalue": "No module named keras",
     "output_type": "error",
     "traceback": [
      "\u001b[0;31m---------------------------------------------------------------------------\u001b[0m",
      "\u001b[0;31mImportError\u001b[0m                               Traceback (most recent call last)",
      "\u001b[0;32m<ipython-input-26-88d96843a926>\u001b[0m in \u001b[0;36m<module>\u001b[0;34m()\u001b[0m\n\u001b[0;32m----> 1\u001b[0;31m \u001b[0;32mimport\u001b[0m \u001b[0mkeras\u001b[0m\u001b[0;34m\u001b[0m\u001b[0m\n\u001b[0m",
      "\u001b[0;31mImportError\u001b[0m: No module named keras"
     ]
    }
   ],
   "source": [
    "import keras"
   ]
  },
  {
   "cell_type": "code",
   "execution_count": null,
   "metadata": {
    "collapsed": true
   },
   "outputs": [],
   "source": [
    "# dividing training data with 60-20-20 train-val-test split\n",
    "\n",
    "num_training = int(0.6 * X.shape[0])\n",
    "num_val_or_test = int(0.2 * X.shape[0])\n",
    "\n",
    "# shuffling with fixed seed\n",
    "\n",
    "seed = 42\n",
    "\n",
    "# create big matrix and shuffle to ensure that things get shuffled properly\n",
    "# see https://stackoverflow.com/questions/35646908/numpy-shuffle-multidimensional-array-by-row-only-keep-column-order-unchanged\n",
    "\n",
    "total = np.hstack((X,Y))\n",
    "\n",
    "np.random.seed(42)\n",
    "\n",
    "np.random.shuffle(total)\n",
    "\n",
    "print(X.shape)\n",
    "print(Y.shape)\n",
    "\n",
    "# split back apart to partition into training, validation, and test sets\n",
    "\n",
    "X_new = total[:,0:X.shape[1]]\n",
    "Y_new = total[:,X.shape[1]:]\n",
    "\n",
    "#X_new = X\n",
    "#Y_new = Y # lol\n",
    "\n",
    "print(X_new.shape)\n",
    "print(Y_new.shape)\n",
    "\n",
    "print(X[0])\n",
    "print(Y[0])\n",
    "print(X_new[0])\n",
    "print(Y_new[0])\n",
    "\n",
    "X_train = X_new[0:num_training,:]\n",
    "Y_train = Y_new[0:num_training,:]\n",
    "\n",
    "X_val = X_new[num_training:num_training+num_val_or_test,:]\n",
    "Y_val = Y_new[num_training:num_training+num_val_or_test,:]\n",
    "\n",
    "X_test = X_new[num_training+num_val_or_test:,:]\n",
    "Y_test = Y_new[num_training+num_val_or_test:,:]\n",
    "\n",
    "print(X_train.shape)\n",
    "print(X_val.shape)\n",
    "print(X_test.shape)"
   ]
  },
  {
   "cell_type": "code",
   "execution_count": null,
   "metadata": {
    "collapsed": true
   },
   "outputs": [],
   "source": [
    "import keras\n",
    "from keras.models import Sequential\n",
    "from keras.layers import Dense, Dropout\n",
    "from keras.optimizers import RMSprop, SGD, Adam\n",
    "#u ready for some neural nets?\n",
    "\n",
    "batch_size = 2048\n",
    "epochs = 5\n",
    "hidden_layers = 20\n",
    "units_per_layer = 100\n",
    "dropout_rate = 0.2\n",
    "\n",
    "model = Sequential()\n",
    "for i in range(hidden_layers):\n",
    "    if i == 0:\n",
    "        model.add(Dense(activation='relu', input_shape=(len(X[0]),), units=units_per_layer))\n",
    "    else:\n",
    "        model.add(Dense(activation='relu', units=units_per_layer))\n",
    "    model.add(Dropout(dropout_rate))\n",
    "\n",
    "model.add(Dense(activation='softmax',units=Y.shape[1]))\n",
    "\n",
    "model.summary()\n",
    "\n",
    "model.compile(loss='categorical_crossentropy',\n",
    "              optimizer=Adam(),\n",
    "              metrics=['accuracy'])\n",
    "\n",
    "history = model.fit(X_train, Y_train,\n",
    "                    batch_size=batch_size,\n",
    "                    epochs=epochs,\n",
    "                    verbose=1,\n",
    "                    validation_data=(X_val, Y_val))\n",
    "score = model.evaluate(X_test, Y_test, verbose=0)\n",
    "print('Test loss:', score[0])\n",
    "print('Test accuracy:', score[1])\n",
    "\n",
    "#this is kinda like witchcraft, so I'm just wrapping it in a function so it looks like it makes more sense\n",
    "def k_largest(k, arr):\n",
    "    return arr.argsort()[-k:][::-1]\n",
    "#array([4, 3, 1])\n",
    "\n",
    "predictions = model.predict(X_test)\n",
    "print predictions[0]\n",
    "total = X_test.shape[0]\n",
    "correct_with_top_2 = 0\n",
    "correct_with_top_3 = 0\n",
    "for i in range(X_test.shape[0]):\n",
    "    pred = predictions[i,:]\n",
    "    top2 = k_largest(2, pred)\n",
    "    top3 = k_largest(3, pred)\n",
    "    found = False\n",
    "    for j in range(len(top2)):\n",
    "        if Y_test[i,:][top2[j]] == 1.0:\n",
    "            correct_with_top_2 += 1.0\n",
    "            correct_with_top_3 += 1.0\n",
    "            found = True\n",
    "            break\n",
    "    if found:\n",
    "        continue\n",
    "    if Y_test[i,:][top3[-1]] == 1.0:\n",
    "        correct_with_top_3 += 1.0\n",
    "            \n",
    "#print(Y_train[0])\n",
    "print('Test accuracy with top 2:', correct_with_top_2 / total)\n",
    "print('Test accuracy with top 3:', correct_with_top_3 / total)"
   ]
  },
  {
   "cell_type": "code",
   "execution_count": null,
   "metadata": {
    "collapsed": true
   },
   "outputs": [],
   "source": [
    "#bucket_sizes = [3,4,5,2,7,2,5,2,3]\n",
    "breakpoints = [3,7,12,14,21,23,28,30,33]\n",
    "Xs = [[],[],[],[],[],[],[],[],[]]\n",
    "Ys = [[],[],[],[],[],[],[],[],[]]\n",
    "\n",
    "for i in range(X.shape[0]):\n",
    "    index = np.argmax(Y[i,:])\n",
    "    for j in range(len(breakpoints)):\n",
    "        if index < breakpoints[j]:\n",
    "            Xs[j].append(X[i,:].reshape((1,X.shape[1])))\n",
    "            if j == 0:\n",
    "                Ys[j].append(Y[i,0:breakpoints[j]].reshape((1,breakpoints[j])))\n",
    "            else:\n",
    "                Ys[j].append(Y[i,breakpoints[j-1]:breakpoints[j]].reshape((1,breakpoints[j]-breakpoints[j-1])))\n",
    "            break\n",
    "# was going to handle the NON-CRIMINAL vs NON -CRIMINAL case but got lazy...\n",
    "#print(Xs[0][0])\n",
    "#print(Ys[0][4])\n",
    "X_arrs = []\n",
    "Y_arrs = []\n",
    "\n",
    "for i in range(len(Xs)):\n",
    "    X_arrs.append(np.concatenate(Xs[i],axis=0))\n",
    "    Y_arrs.append(np.concatenate(Ys[i],axis=0))\n",
    "    print(X_arrs[i].shape)\n",
    "    print(Y_arrs[i].shape)"
   ]
  },
  {
   "cell_type": "markdown",
   "metadata": {
    "collapsed": true
   },
   "source": [
    "## 5. Decision Tree"
   ]
  },
  {
   "cell_type": "code",
   "execution_count": null,
   "metadata": {
    "collapsed": true,
    "scrolled": true
   },
   "outputs": [],
   "source": [
    "from sklearn import tree\n",
    "import graphviz\n",
    "clf = tree.DecisionTreeClassifier()\n",
    "\n",
    "clf = clf.fit(X_train, Y_train)\n",
    "print(clf.score(X_test,Y_test))\n",
    "print(clf.score(X_train,Y_train))\n",
    "#dot_data = tree.export_graphviz(clf, out_file=None) \n",
    "#graph = graphviz.Source(dot_data) \n",
    "#graph.render(\"crime\") \n",
    "#graph"
   ]
  },
  {
   "cell_type": "code",
   "execution_count": null,
   "metadata": {
    "collapsed": true
   },
   "outputs": [],
   "source": [
    "best_layer_num = 0\n",
    "best_accuracy = 0\n",
    "best_class = None\n",
    "layers = np.arange(3,50)\n",
    "max_nodes = np.arange(Y_train.shape[1],5*Y_train.shape[1])\n",
    "for layer in layers:\n",
    "    clf = tree.DecisionTreeClassifier(criterion=\"entropy\", max_depth=layer)\n",
    "    clf = clf.fit(X_train, Y_train)\n",
    "    curr_acc = clf.score(X_val, Y_val)\n",
    "    if curr_acc > best_accuracy:\n",
    "        best_accuracy = curr_acc\n",
    "        best_class = clf\n",
    "        best_layer_num = layer\n",
    "\n",
    "print(best_layer_num)\n",
    "print(best_accuracy)\n",
    "print(X_decoder(X_train[0]))\n",
    "print(Y_decoder(Y_train[0]))\n",
    "dot_data = tree.export_graphviz(best_class, out_file=None) \n",
    "graph = graphviz.Source(dot_data) \n",
    "#graph.render(\"crime\") \n",
    "graph"
   ]
  },
  {
   "cell_type": "markdown",
   "metadata": {},
   "source": [
    "## 6.1 GMM (clustering by space)"
   ]
  },
  {
   "cell_type": "code",
   "execution_count": null,
   "metadata": {
    "collapsed": true
   },
   "outputs": [],
   "source": [
    "import itertools\n",
    "\n",
    "import numpy as np\n",
    "from scipy import linalg\n",
    "import matplotlib.pyplot as plt\n",
    "import matplotlib as mpl\n",
    "\n",
    "from sklearn import mixture\n",
    "\n",
    "num_clusters = 2\n",
    "\n",
    "gmm = mixture.GaussianMixture(n_components=num_clusters)\n",
    "X_new = np.concatenate([X[:,1].reshape(-1,1),X[:,0].reshape(-1,1)], axis=1)\n",
    "gmm.fit(X_new)\n",
    "\n",
    "latitude = 41.881832 \n",
    "longitude = -87.623177\n",
    "\n",
    "from mpl_toolkits.basemap import Basemap\n",
    "import numpy as np\n",
    "import matplotlib.pyplot as plt\n",
    "\n",
    "\n",
    "print(X_new.shape)\n",
    "print(Y.shape)\n",
    "\n",
    "color_iter = itertools.cycle(['navy', 'c', 'cornflowerblue', 'gold',\n",
    "                              'darkorange'])\n",
    "\n",
    "colors = ['red', 'green', 'blue', 'yellow']\n",
    "\n",
    "crime_colors = ['black', 'white', 'lightblue', 'purple', 'orange', 'blue', 'pink', 'lightblue', 'brown']\n",
    "\n",
    "crime_decoding = [\n",
    "                \"KIDNAPPING / CHILDREN\",\n",
    "                \"ROBBERY/BURGLARY/THEFT\",\n",
    "                \"ASSAULT/VIOLENCE\",\n",
    "                \"NARCOTICS\",\n",
    "                \"PUBLIC-RELATED CRIME\",\n",
    "                \"DAMAGE/ARSON\",\n",
    "                \"OTHER/NON-CRIMINAL\",\n",
    "                \"WEAPON-RELATED\",\n",
    "                \"PROHIBITIVE CRIME\"\n",
    "            ]\n",
    "\n",
    "from matplotlib.patches import Polygon\n",
    "from mpl_toolkits.basemap import pyproj\n",
    "from mpl_toolkits.basemap import Basemap\n",
    "\n",
    "class Basemap(Basemap):\n",
    "    def ellipse(self, x0, y0, a, b, n, ax=None, **kwargs):\n",
    "        \"\"\"\n",
    "        Draws a polygon centered at ``x0, y0``. The polygon approximates an\n",
    "        ellipse on the surface of the Earth with semi-major-axis ``a`` and \n",
    "        semi-minor axis ``b`` degrees longitude and latitude, made up of \n",
    "        ``n`` vertices.\n",
    "\n",
    "        For a description of the properties of ellipsis, please refer to [1].\n",
    "\n",
    "        The polygon is based upon code written do plot Tissot's indicatrix\n",
    "        found on the matplotlib mailing list at [2].\n",
    "\n",
    "        Extra keyword ``ax`` can be used to override the default axis instance.\n",
    "\n",
    "        Other \\**kwargs passed on to matplotlib.patches.Polygon\n",
    "\n",
    "        RETURNS\n",
    "            poly : a maptplotlib.patches.Polygon object.\n",
    "\n",
    "        REFERENCES\n",
    "            [1] : http://en.wikipedia.org/wiki/Ellipse\n",
    "\n",
    "\n",
    "        \"\"\"\n",
    "        ax = kwargs.pop('ax', None) or self._check_ax()\n",
    "        g = pyproj.Geod(a=self.rmajor, b=self.rminor)\n",
    "        # Gets forward and back azimuths, plus distances between initial\n",
    "        # points (x0, y0)\n",
    "        azf, azb, dist = g.inv([x0, x0], [y0, y0], [x0+a, x0], [y0, y0+b])\n",
    "        tsid = dist[0] * dist[1] # a * b\n",
    "\n",
    "        # Initializes list of segments, calculates \\del azimuth, and goes on \n",
    "        # for every vertex\n",
    "        seg = [self(x0+a, y0)]\n",
    "        AZ = np.linspace(azf[0], 360. + azf[0], n)\n",
    "        for i, az in enumerate(AZ):\n",
    "            # Skips segments along equator (Geod can't handle equatorial arcs).\n",
    "            if np.allclose(0., y0) and (np.allclose(90., az) or\n",
    "                np.allclose(270., az)):\n",
    "                continue\n",
    "\n",
    "            # In polar coordinates, with the origin at the center of the \n",
    "            # ellipse and with the angular coordinate ``az`` measured from the\n",
    "            # major axis, the ellipse's equation  is [1]:\n",
    "            #\n",
    "            #                           a * b\n",
    "            # r(az) = ------------------------------------------\n",
    "            #         ((b * cos(az))**2 + (a * sin(az))**2)**0.5\n",
    "            #\n",
    "            # Azymuth angle in radial coordinates and corrected for reference\n",
    "            # angle.\n",
    "            azr = 2. * np.pi / 360. * (az + 90.)\n",
    "            A = dist[0] * np.sin(azr)\n",
    "            B = dist[1] * np.cos(azr)\n",
    "            r = tsid / (B**2. + A**2.)**0.5\n",
    "            lon, lat, azb = g.fwd(x0, y0, az, r)\n",
    "            x, y = self(lon, lat)\n",
    "\n",
    "            # Add segment if it is in the map projection region.\n",
    "            if x < 1e20 and y < 1e20:\n",
    "                seg.append((x, y))\n",
    "\n",
    "        poly = Polygon(seg, **kwargs)\n",
    "        poly.set_alpha(0.5)\n",
    "        ax.add_patch(poly)\n",
    "\n",
    "        # Set axes limits to fit map region.\n",
    "        self.set_axes_limits(ax=ax)\n",
    "\n",
    "        return poly\n",
    "\n",
    "\n",
    "plt.figure(figsize=(10,10))\n",
    "\n",
    "m = Basemap(llcrnrlon=longitude-0.2,llcrnrlat=latitude-0.2,urcrnrlon=longitude+0.2,urcrnrlat=latitude+0.2,\n",
    "                projection='merc',resolution='h')\n",
    "m.drawcoastlines()\n",
    "m.drawstates()\n",
    "m.fillcontinents()\n",
    "    \n",
    "\n",
    "def plot_results(X, Y_, means, covariances, index, title):\n",
    "    \n",
    "    for i, (mean, covar, color) in enumerate(zip(\n",
    "            means, covariances, color_iter)):\n",
    "        v, w = linalg.eigh(covar)\n",
    "        v = 2. * np.sqrt(2.) * np.sqrt(v)\n",
    "        u = w[0] / linalg.norm(w[0])\n",
    "        # as the DP will not use every component it has access to\n",
    "        # unless it needs it, we shouldn't plot the redundant\n",
    "        # components.\n",
    "        if not np.any(Y_ == i):\n",
    "            continue\n",
    "        #x1,y1=m(X[Y_ == i, 0],X[Y_ == i, 1])\n",
    "        \n",
    "\n",
    "        #.scatter(x1, y1, .8, color=color)\n",
    "        #m.scatter(X[Y_ == i, 0], X[Y_ == i, 1], zorder=3, c=colors[i], latlon=True)\n",
    "        # Plot an ellipse to show the Gaussian component\n",
    "        angle = np.arctan(u[1] / u[0])\n",
    "        angle = 180. * angle / np.pi  # convert to degrees\n",
    "        \n",
    "        m.ellipse(mean[0],mean[1],v[0],v[1],100, color=colors[i])\n",
    "        \n",
    "    plt.xticks(())\n",
    "    plt.yticks(())\n",
    "    \n",
    "\n",
    "plot_results(X_new, gmm.predict(X_new), gmm.means_, gmm.covariances_, 0,\n",
    "             'Gaussian Mixture')\n",
    "\n",
    "for i in range(Y.shape[1]):\n",
    "    Xs = []\n",
    "    for j in range(Y.shape[0]):\n",
    "        if Y[j,i] == 1:\n",
    "            Xs.append(X_new[j,:])\n",
    "    Xs = np.array(Xs)\n",
    "    #print(Xs)\n",
    "    #m.scatter(Xs[:, 0], Xs[:, 1], c=crime_colors[i], latlon=True, label=crime_decoding[i])\n",
    "    m.scatter(Xs[:, 0], Xs[:, 1], zorder=3, c=crime_colors[i], latlon=True, label=crime_decoding[i])\n",
    "\n",
    "#ax.show()\n",
    "#fig\n",
    "#ax.figure.canvas.draw()\n",
    "plt.gca().legend()\n",
    "plt.show()\n",
    "\n",
    "#plt.show() \n",
    "#print(preds)\n",
    "#print(Y)\n"
   ]
  },
  {
   "cell_type": "markdown",
   "metadata": {},
   "source": [
    "## 6.2 GMM (clustering by time)"
   ]
  },
  {
   "cell_type": "code",
   "execution_count": null,
   "metadata": {
    "collapsed": true
   },
   "outputs": [],
   "source": [
    "from matplotlib import pyplot as plt\n",
    "import numpy as np\n",
    "\n",
    "from sklearn import mixture\n",
    "from matplotlib.colors import to_rgba_array\n",
    "\n",
    "colors = ['red', 'green', 'blue', 'yellow']\n",
    "\n",
    "crime_colors = ['black', 'white', 'lightblue', 'purple', 'orange', 'blue', 'pink', 'lightblue', 'brown']\n",
    "#{'b', 'g', 'r', 'c', 'm', 'y', 'k', 'w'}\n",
    "crime_decoding = [\n",
    "                \"KIDNAPPING / CHILDREN\",\n",
    "                \"ROBBERY/BURGLARY/THEFT\",\n",
    "                \"ASSAULT/VIOLENCE\",\n",
    "                \"NARCOTICS\",\n",
    "                \"PUBLIC-RELATED CRIME\",\n",
    "                \"DAMAGE/ARSON\",\n",
    "                \"OTHER/NON-CRIMINAL\",\n",
    "                \"WEAPON-RELATED\",\n",
    "                \"PROHIBITIVE CRIME\"\n",
    "            ]\n",
    "\n",
    "num_clusters = 2\n",
    "\n",
    "gmm = mixture.GaussianMixture(n_components=num_clusters)\n",
    "#X_new = np.concatenate([X[:,1].reshape(-1,1),X[:,0].reshape(-1,1)], axis=1)\n",
    "#print(X.shape)\n",
    "mins_to_hours = lambda x: (x/60.0)\n",
    "X_new = np.apply_along_axis(mins_to_hours, 1, X)\n",
    "print(X[0])\n",
    "print(X_new[0])\n",
    "print(X_new.shape)\n",
    "gmm.fit(X_new)\n",
    "\n",
    "def plot_curves(gmm):\n",
    "    mu = gmm.means_\n",
    "    var = gmm.covariances_\n",
    "    #sigma = [np.sqrt(var[0]), np.sqrt(var[1])]\n",
    "    sigma = [np.sqrt(var[i]) for i in range(len(var))]\n",
    "    x = np.linspace(0, 24, 100)\n",
    "    \n",
    "    for i in range(len(mu)):\n",
    "        curve = plt.mlab.normpdf(x, mu[i], sigma[i])\n",
    "        plt.plot(x, curve.reshape((100,)), color=colors[i])\n",
    "        plt.fill_between(x,curve.reshape((100,)) , color='grey', alpha=0.5)\n",
    "    \n",
    "    \n",
    "    #plt.savefig('data_t0.jpg')\n",
    "\n",
    "plot_curves(gmm)\n",
    "\n",
    "for i in range(Y.shape[1]):\n",
    "    Xs = []\n",
    "    for j in range(Y.shape[0]):\n",
    "        if Y[j,i] == 1:\n",
    "            Xs.append(X_new[j,:])\n",
    "    Xs = np.array(Xs)\n",
    "    print(Xs.shape)\n",
    "    #m.scatter(Xs[:, 0], Xs[:, 1], c=crime_colors[i], latlon=True, label=crime_decoding[i])\n",
    "    #m.scatter(Xs[:, 0], Xs[:, 1], zorder=3, c=crime_colors[i], latlon=True, label=crime_decoding[i])\n",
    "    #plt.eventplot(Xs.reshape((Xs.size,)), orientation='horizontal', colors=to_rgba_array(crime_colors[i]),lineoffsets=0,linelengths=0.05)\n",
    "    Xs = Xs.reshape((Xs.size,))\n",
    "    #print(np.zeros(len(Xs)))\n",
    "    plt.scatter(Xs.reshape((Xs.size,)), np.zeros(len(Xs)) + 0.005, color=crime_colors[i], label=crime_decoding[i])\n",
    "    #plt.axis('off')\n",
    "plt.legend()\n",
    "plt.show()\n",
    "#plt.figure()\n",
    "#a = [1,2,5,6,9,11,15,17,18]\n",
    "#plt.hlines(1,1,20)  # Draw a horizontal line\n",
    "#plt.eventplot(a, orientation='horizontal', colors='b')\n",
    "#plt.axis('off')\n",
    "#plt.show()"
   ]
  },
  {
   "cell_type": "code",
   "execution_count": 29,
   "metadata": {},
   "outputs": [
    {
     "name": "stdout",
     "output_type": "stream",
     "text": [
      "Majority Vote Top 3 Validation Score: 0.731\n",
      "Majority Vote Top 3 Test Score: 0.7204\n",
      "('Majority Vote Top 1 Validation score:', 0.379)\n",
      "('Majority Vote Top 1 Test score:', 0.3624)\n",
      "('Random uniform sampling validation score', 0.1062)\n",
      "('Random uniform sampling test score', 0.1116)\n"
     ]
    }
   ],
   "source": [
    "from sklearn.dummy import DummyClassifier\n",
    "def baselines(X, Y):\n",
    "    # Loading data\n",
    "    X_train = X[1:10000]\n",
    "    Y_train = Y[1:10000]\n",
    "    X_validate = X[10000:15000]\n",
    "    Y_validate = Y[10000:15000]\n",
    "    X_test = X[15000:20000]\n",
    "    Y_test = Y[15000:20000]\n",
    "    train_targets = np.zeros(Y_train.shape[0])\n",
    "    for i in range(Y_train.shape[0]):\n",
    "        train_targets[i] = np.argmax(Y_train[i])\n",
    "    validation_targets = np.zeros(Y_validate.shape[0])\n",
    "    for i in range(Y_validate.shape[0]):\n",
    "        validation_targets[i] = np.argmax(Y_validate[i])\n",
    "    test_targets = np.zeros(Y_test.shape[0])\n",
    "    for i in range(Y_test.shape[0]):\n",
    "        test_targets[i] = np.argmax(Y_test[i])\n",
    "    #majority vote\n",
    "    clf = DummyClassifier(strategy='most_frequent')\n",
    "    clf.fit(X_train, train_targets)\n",
    "    indices =  np.sum(Y_train, axis=0).argsort()[-3:][::-1]\n",
    "    mask = np.zeros(Y_train.shape[1])\n",
    "    for index in indices:\n",
    "        mask[index] = 1\n",
    "    \n",
    "    extended_mask = np.tile(mask, (Y_validate.shape[0],1))\n",
    "    result = np.multiply(extended_mask, Y_validate)\n",
    "    print \"Majority Vote Top 3 Validation Score:\", np.sum(np.amax(result, axis = 1))/(Y_validate.shape[0])\n",
    "    extended_mask = np.tile(mask, (Y_test.shape[0],1))\n",
    "    result = np.multiply(extended_mask, Y_test)\n",
    "    print \"Majority Vote Top 3 Test Score:\", np.sum(np.amax(result, axis = 1))/(Y_test.shape[0])\n",
    "    \n",
    "    print(\"Majority Vote Top 1 Validation score:\", clf.score(X_validate, validation_targets) )\n",
    "    print(\"Majority Vote Top 1 Test score:\", clf.score(X_test, test_targets))\n",
    "    \n",
    "    \n",
    "    clf2 = DummyClassifier(strategy='uniform')\n",
    "    clf2.fit(X_train, train_targets)\n",
    "    print(\"Random uniform sampling validation score\", clf2.score(X_validate, validation_targets))\n",
    "    print(\"Random uniform sampling test score\", clf2.score(X_test,test_targets))\n",
    "\n",
    "baselines(X, Y)"
   ]
  },
  {
   "cell_type": "code",
   "execution_count": null,
   "metadata": {
    "collapsed": true
   },
   "outputs": [],
   "source": []
  },
  {
   "cell_type": "code",
   "execution_count": null,
   "metadata": {
    "collapsed": true
   },
   "outputs": [],
   "source": []
  },
  {
   "cell_type": "code",
   "execution_count": null,
   "metadata": {
    "collapsed": true
   },
   "outputs": [],
   "source": []
  },
  {
   "cell_type": "code",
   "execution_count": null,
   "metadata": {
    "collapsed": true
   },
   "outputs": [],
   "source": []
  }
 ],
 "metadata": {
  "kernelspec": {
   "display_name": "Python 2",
   "language": "python",
   "name": "python2"
  },
  "language_info": {
   "codemirror_mode": {
    "name": "ipython",
    "version": 2
   },
   "file_extension": ".py",
   "mimetype": "text/x-python",
   "name": "python",
   "nbconvert_exporter": "python",
   "pygments_lexer": "ipython2",
   "version": "2.7.11"
  }
 },
 "nbformat": 4,
 "nbformat_minor": 2
}
