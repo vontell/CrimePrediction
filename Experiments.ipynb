{
 "cells": [
  {
   "cell_type": "markdown",
   "metadata": {},
   "source": [
    "# Crime Analysis and Prediction\n",
    "\n",
    "This file contains a set of experiments for analyzing and extrapolating data regarding crimes."
   ]
  },
  {
   "cell_type": "markdown",
   "metadata": {},
   "source": [
    "## 1. Data Loading and Sanitization"
   ]
  },
  {
   "cell_type": "code",
   "execution_count": 42,
   "metadata": {
    "scrolled": true
   },
   "outputs": [
    {
     "name": "stdout",
     "output_type": "stream",
     "text": [
      "Creating checkpoint for crimes\n",
      "Loading crime data\n",
      "Finished loading data\n",
      "Creating X feature matrix\n",
      "Creating Y feature matrix\n",
      "Featurization complete\n",
      "Featurization achieved\n"
     ]
    }
   ],
   "source": [
    "import matplotlib.pyplot as plt\n",
    "from sklearn.neighbors import KNeighborsClassifier\n",
    "from data import CrimeLoader\n",
    "import numpy as np\n",
    "\n",
    "# Crime loader now handles all of the data saving and parsing\n",
    "#    force_refresh - If true, will read from the original files rather than a saved pickle file\n",
    "#    force_save - If true, will save any loaded data into a pickle for later loading\n",
    "#    data_limit - The number of crimes to load (used for speedup)\n",
    "data = CrimeLoader()\n",
    "data.load_data(force_refresh=False, force_save=False, data_limit=100000, randomize=True)\n",
    "\n",
    "# List of possible features to include:\n",
    "#    day                - Day of the week (ex: SUN - SAT) 1-hot encoded\n",
    "#    time               - Time of day (ex: Morning, Afternoon, Evening, Late Night) 1-hot encoded\n",
    "#    time min           - Time in minutes (ex: 1420 minutes) Integer value (not 1-hot encoded)\n",
    "#    hour               - Time in hour (ex: 13) Integer value (not 1-hot encoded)\n",
    "#    location           - Location of crime, (ex: lat, long) 2 float values\n",
    "#    crime condensed    - Encoding of crime, 1-hot encoded of length 9 (?)\n",
    "#    crime full         - Encoding of crime, 1-hot encoded of length ~ 30\n",
    "#    all                - All of the above\n",
    "\n",
    "X_features = [\"day\", \"time min\", \"location\"]\n",
    "Y_features = [\"crime condensed\"]\n",
    "X, Y, X_decoder, Y_decoder = data.get_workable_data(X_features, Y_features)\n",
    "print(\"Featurization achieved\")"
   ]
  },
  {
   "cell_type": "markdown",
   "metadata": {},
   "source": [
    "## 2. K-Nearest Neighbors"
   ]
  },
  {
   "cell_type": "code",
   "execution_count": 39,
   "metadata": {},
   "outputs": [],
   "source": [
    "def train_KNN(feature_matrix, targets, n):\n",
    "    knn = KNeighborsClassifier(n_neighbors=n)\n",
    "    Y = np.zeros(targets.shape[0])\n",
    "    for i in range(targets.shape[0]):\n",
    "        Y[i] = np.argmax(targets[i])\n",
    "    knn.fit(feature_matrix,Y)\n",
    "    return knn\n"
   ]
  },
  {
   "cell_type": "code",
   "execution_count": 40,
   "metadata": {},
   "outputs": [],
   "source": [
    "def int_to_category(prediction):\n",
    "    categories = [\"KIDNAPPING / CHILDREN\",\"ROBBERY/BURGLARY/THEFT\",\"ASSAULT/VIOLENCE\",\"NARCOTICS\",\"PUBLIC-RELATED CRIME\",\"DAMAGE/ARSON\",\"OTHER/NON-CRIMINAL\",\"WEAPON-RELATED\",\"PROHIBITIVE CRIME\"]\n",
    "    return categories[int(prediction)]\n"
   ]
  },
  {
   "cell_type": "code",
   "execution_count": 12,
   "metadata": {},
   "outputs": [
    {
     "name": "stdout",
     "output_type": "stream",
     "text": [
      "(97472, 10)\n"
     ]
    },
    {
     "ename": "NameError",
     "evalue": "global name 'train_KNN' is not defined",
     "output_type": "error",
     "traceback": [
      "\u001b[0;31m---------------------------------------------------------------------------\u001b[0m",
      "\u001b[0;31mNameError\u001b[0m                                 Traceback (most recent call last)",
      "\u001b[0;32m<ipython-input-12-33b54934e99f>\u001b[0m in \u001b[0;36m<module>\u001b[0;34m()\u001b[0m\n\u001b[1;32m     37\u001b[0m \u001b[0;34m\u001b[0m\u001b[0m\n\u001b[1;32m     38\u001b[0m \u001b[0;32mprint\u001b[0m\u001b[0;34m(\u001b[0m\u001b[0mX\u001b[0m\u001b[0;34m.\u001b[0m\u001b[0mshape\u001b[0m\u001b[0;34m)\u001b[0m\u001b[0;34m\u001b[0m\u001b[0m\n\u001b[0;32m---> 39\u001b[0;31m \u001b[0mevaluate_KNN\u001b[0m\u001b[0;34m(\u001b[0m\u001b[0mX\u001b[0m\u001b[0;34m,\u001b[0m \u001b[0mY\u001b[0m\u001b[0;34m)\u001b[0m\u001b[0;34m\u001b[0m\u001b[0m\n\u001b[0m\u001b[1;32m     40\u001b[0m \u001b[0;34m\u001b[0m\u001b[0m\n\u001b[1;32m     41\u001b[0m \u001b[0;34m\u001b[0m\u001b[0m\n",
      "\u001b[0;32m<ipython-input-12-33b54934e99f>\u001b[0m in \u001b[0;36mevaluate_KNN\u001b[0;34m(X, Y)\u001b[0m\n\u001b[1;32m     13\u001b[0m     \u001b[0mmax_score\u001b[0m \u001b[0;34m=\u001b[0m \u001b[0;36m0.0\u001b[0m\u001b[0;34m\u001b[0m\u001b[0m\n\u001b[1;32m     14\u001b[0m     \u001b[0;32mfor\u001b[0m \u001b[0mk\u001b[0m \u001b[0;32min\u001b[0m \u001b[0mK\u001b[0m\u001b[0;34m:\u001b[0m\u001b[0;34m\u001b[0m\u001b[0m\n\u001b[0;32m---> 15\u001b[0;31m         \u001b[0mknn\u001b[0m \u001b[0;34m=\u001b[0m \u001b[0mtrain_KNN\u001b[0m\u001b[0;34m(\u001b[0m\u001b[0mX_train\u001b[0m\u001b[0;34m,\u001b[0m \u001b[0mY_train\u001b[0m\u001b[0;34m,\u001b[0m \u001b[0mk\u001b[0m\u001b[0;34m)\u001b[0m\u001b[0;34m\u001b[0m\u001b[0m\n\u001b[0m\u001b[1;32m     16\u001b[0m         \u001b[0mpredictions\u001b[0m \u001b[0;34m=\u001b[0m \u001b[0mknn\u001b[0m\u001b[0;34m.\u001b[0m\u001b[0mpredict\u001b[0m\u001b[0;34m(\u001b[0m\u001b[0mX_validate\u001b[0m\u001b[0;34m)\u001b[0m\u001b[0;34m\u001b[0m\u001b[0m\n\u001b[1;32m     17\u001b[0m         \u001b[0mcorrect\u001b[0m \u001b[0;34m=\u001b[0m \u001b[0;36m0.0\u001b[0m\u001b[0;34m\u001b[0m\u001b[0m\n",
      "\u001b[0;31mNameError\u001b[0m: global name 'train_KNN' is not defined"
     ]
    }
   ],
   "source": [
    "def evaluate_KNN(X, Y):\n",
    "    # Loading data\n",
    "    X_train = X[1:300]\n",
    "    Y_train = Y[1:300]\n",
    "    X_validate = X[300:500]\n",
    "    Y_validate = Y[300:500]\n",
    "    X_test = X[500:600]\n",
    "    Y_test = Y[500:600]\n",
    "    \n",
    "    #Tuning on the validation set for value of K\n",
    "    K = [k for k in range(1,30)]\n",
    "    best_K = 0\n",
    "    max_score = 0.0\n",
    "    for k in K:\n",
    "        knn = train_KNN(X_train, Y_train, k)\n",
    "        predictions = knn.predict(X_validate)\n",
    "        correct = 0.0\n",
    "        for i in range(predictions.shape[0]):\n",
    "            if int_to_category(predictions[i]) == Y_decoder(Y_validate[i])[0]:\n",
    "                correct += 1.0\n",
    "        if correct > max_score:\n",
    "            max_score = correct\n",
    "            best_K = k\n",
    "        print(\"Validation set Performance with k = \" + str(k) + \":\" + str(correct/predictions.shape[0]))\n",
    "    \n",
    "    #Evaluating on Test set with best K value\n",
    "    knn = train_KNN(X_train, Y_train, best_K)\n",
    "    predictions = knn.predict(X_test)\n",
    "    correct = 0.0\n",
    "    for i in range(predictions.shape[0]):\n",
    "        if int_to_category(predictions[i]) == Y_decoder(Y_test[i])[0]:\n",
    "            correct += 1.0\n",
    "    if correct > max_score:\n",
    "        max_score = correct\n",
    "        best_K = k\n",
    "    print(\"Test set Performance with k = \" + str(best_K) + \":  \" + str(correct/predictions.shape[0]))\n",
    "\n",
    "print(X.shape)\n",
    "evaluate_KNN(X, Y)       \n",
    "        \n",
    "    \n",
    "    \n",
    "    \n",
    "    "
   ]
  },
  {
   "cell_type": "markdown",
   "metadata": {},
   "source": [
    "## 3. Neural Network"
   ]
  },
  {
   "cell_type": "code",
   "execution_count": null,
   "metadata": {},
   "outputs": [],
   "source": [
    "import keras"
   ]
  },
  {
   "cell_type": "code",
   "execution_count": 13,
   "metadata": {},
   "outputs": [
    {
     "name": "stdout",
     "output_type": "stream",
     "text": [
      "(97472, 10)\n",
      "(97472, 9)\n",
      "(97472, 10)\n",
      "(97472, 9)\n",
      "[   0.            0.            0.            0.            0.            1.\n",
      "    0.          990.           41.78299076  -87.61447837]\n",
      "[ 0.  0.  0.  0.  0.  0.  1.  0.  0.]\n",
      "[  0.00000000e+00   0.00000000e+00   1.00000000e+00   0.00000000e+00\n",
      "   0.00000000e+00   0.00000000e+00   0.00000000e+00   1.35500000e+03\n",
      "   4.17863817e+01  -8.76951563e+01]\n",
      "[ 0.  0.  0.  0.  0.  0.  1.  0.  0.]\n",
      "(58483, 10)\n",
      "(19494, 10)\n",
      "(19495, 10)\n"
     ]
    }
   ],
   "source": [
    "# dividing training data with 60-20-20 train-val-test split\n",
    "\n",
    "num_training = int(0.6 * X.shape[0])\n",
    "num_val_or_test = int(0.2 * X.shape[0])\n",
    "\n",
    "# shuffling with fixed seed\n",
    "\n",
    "seed = 42\n",
    "\n",
    "# create big matrix and shuffle to ensure that things get shuffled properly\n",
    "# see https://stackoverflow.com/questions/35646908/numpy-shuffle-multidimensional-array-by-row-only-keep-column-order-unchanged\n",
    "\n",
    "total = np.hstack((X,Y))\n",
    "\n",
    "np.random.seed(42)\n",
    "\n",
    "np.random.shuffle(total)\n",
    "\n",
    "print(X.shape)\n",
    "print(Y.shape)\n",
    "\n",
    "# split back apart to partition into training, validation, and test sets\n",
    "\n",
    "X_new = total[:,0:X.shape[1]]\n",
    "Y_new = total[:,X.shape[1]:]\n",
    "\n",
    "#X_new = X\n",
    "#Y_new = Y # lol\n",
    "\n",
    "print(X_new.shape)\n",
    "print(Y_new.shape)\n",
    "\n",
    "print(X[0])\n",
    "print(Y[0])\n",
    "print(X_new[0])\n",
    "print(Y_new[0])\n",
    "\n",
    "X_train = X_new[0:num_training,:]\n",
    "Y_train = Y_new[0:num_training,:]\n",
    "\n",
    "X_val = X_new[num_training:num_training+num_val_or_test,:]\n",
    "Y_val = Y_new[num_training:num_training+num_val_or_test,:]\n",
    "\n",
    "X_test = X_new[num_training+num_val_or_test:,:]\n",
    "Y_test = Y_new[num_training+num_val_or_test:,:]\n",
    "\n",
    "print(X_train.shape)\n",
    "print(X_val.shape)\n",
    "print(X_test.shape)"
   ]
  },
  {
   "cell_type": "code",
   "execution_count": 15,
   "metadata": {},
   "outputs": [
    {
     "name": "stdout",
     "output_type": "stream",
     "text": [
      "_________________________________________________________________\n",
      "Layer (type)                 Output Shape              Param #   \n",
      "=================================================================\n",
      "dense_43 (Dense)             (None, 100)               1100      \n",
      "_________________________________________________________________\n",
      "dropout_36 (Dropout)         (None, 100)               0         \n",
      "_________________________________________________________________\n",
      "dense_44 (Dense)             (None, 100)               10100     \n",
      "_________________________________________________________________\n",
      "dropout_37 (Dropout)         (None, 100)               0         \n",
      "_________________________________________________________________\n",
      "dense_45 (Dense)             (None, 100)               10100     \n",
      "_________________________________________________________________\n",
      "dropout_38 (Dropout)         (None, 100)               0         \n",
      "_________________________________________________________________\n",
      "dense_46 (Dense)             (None, 100)               10100     \n",
      "_________________________________________________________________\n",
      "dropout_39 (Dropout)         (None, 100)               0         \n",
      "_________________________________________________________________\n",
      "dense_47 (Dense)             (None, 100)               10100     \n",
      "_________________________________________________________________\n",
      "dropout_40 (Dropout)         (None, 100)               0         \n",
      "_________________________________________________________________\n",
      "dense_48 (Dense)             (None, 9)                 909       \n",
      "=================================================================\n",
      "Total params: 42,409\n",
      "Trainable params: 42,409\n",
      "Non-trainable params: 0\n",
      "_________________________________________________________________\n",
      "Train on 58483 samples, validate on 19494 samples\n",
      "Epoch 1/5\n",
      "58483/58483 [==============================] - 1s - loss: 9.5595 - acc: 0.3285 - val_loss: 8.1732 - val_acc: 0.3642\n",
      "Epoch 2/5\n",
      "58483/58483 [==============================] - 1s - loss: 5.4845 - acc: 0.2690 - val_loss: 1.9708 - val_acc: 0.3124\n",
      "Epoch 3/5\n",
      "58483/58483 [==============================] - 1s - loss: 1.9737 - acc: 0.2943 - val_loss: 1.8973 - val_acc: 0.3125\n",
      "Epoch 4/5\n",
      "58483/58483 [==============================] - 1s - loss: 1.8204 - acc: 0.3282 - val_loss: 1.8076 - val_acc: 0.3662\n",
      "Epoch 5/5\n",
      "58483/58483 [==============================] - 1s - loss: 1.7812 - acc: 0.3402 - val_loss: 1.7687 - val_acc: 0.3662\n",
      "('Test loss:', 1.7735980950309302)\n",
      "('Test accuracy:', 0.36619646063322409)\n",
      "('Test accuracy with top 2:', 0.6198512439086945)\n",
      "('Test accuracy with top 3:', 0.737932803282893)\n"
     ]
    }
   ],
   "source": [
    "import keras\n",
    "from keras.models import Sequential\n",
    "from keras.layers import Dense, Dropout\n",
    "from keras.optimizers import RMSprop, SGD, Adam\n",
    "#u ready for some neural nets?\n",
    "\n",
    "batch_size = 2048\n",
    "epochs = 5\n",
    "hidden_layers = 5\n",
    "units_per_layer = 100\n",
    "dropout_rate = 0.2\n",
    "\n",
    "model = Sequential()\n",
    "for i in range(hidden_layers):\n",
    "    if i == 0:\n",
    "        model.add(Dense(activation='relu', input_shape=(len(X[0]),), units=units_per_layer))\n",
    "    else:\n",
    "        model.add(Dense(activation='relu', units=units_per_layer))\n",
    "    model.add(Dropout(dropout_rate))\n",
    "\n",
    "model.add(Dense(activation='softmax',units=Y.shape[1]))\n",
    "\n",
    "model.summary()\n",
    "\n",
    "model.compile(loss='categorical_crossentropy',\n",
    "              optimizer=Adam(),\n",
    "              metrics=['accuracy'])\n",
    "\n",
    "history = model.fit(X_train, Y_train,\n",
    "                    batch_size=batch_size,\n",
    "                    epochs=epochs,\n",
    "                    verbose=1,\n",
    "                    validation_data=(X_val, Y_val))\n",
    "score = model.evaluate(X_test, Y_test, verbose=0)\n",
    "print('Test loss:', score[0])\n",
    "print('Test accuracy:', score[1])\n",
    "\n",
    "#this is kinda like witchcraft, so I'm just wrapping it in a function so it looks like it makes more sense\n",
    "def k_largest(k, arr):\n",
    "    return arr.argsort()[-k:][::-1]\n",
    "#array([4, 3, 1])\n",
    "\n",
    "predictions = model.predict(X_test)\n",
    "total = X_test.shape[0]\n",
    "correct_with_top_2 = 0\n",
    "correct_with_top_3 = 0\n",
    "for i in range(X_test.shape[0]):\n",
    "    pred = predictions[i,:]\n",
    "    top2 = k_largest(2, pred)\n",
    "    top3 = k_largest(3, pred)\n",
    "    found = False\n",
    "    for j in range(len(top2)):\n",
    "        if Y_test[i,:][top2[j]] == 1.0:\n",
    "            correct_with_top_2 += 1.0\n",
    "            correct_with_top_3 += 1.0\n",
    "            found = True\n",
    "            break\n",
    "    if found:\n",
    "        continue\n",
    "    if Y_test[i,:][top3[-1]] == 1.0:\n",
    "        correct_with_top_3 += 1.0\n",
    "            \n",
    "#print(Y_train[0])\n",
    "print('Test accuracy with top 2:', correct_with_top_2 / total)\n",
    "print('Test accuracy with top 3:', correct_with_top_3 / total)"
   ]
  },
  {
   "cell_type": "code",
   "execution_count": 41,
   "metadata": {},
   "outputs": [
    {
     "name": "stdout",
     "output_type": "stream",
     "text": [
      "(97421, 31)\n",
      "30\n",
      "33\n",
      "(1,)\n"
     ]
    },
    {
     "ename": "ValueError",
     "evalue": "cannot reshape array of size 1 into shape (1,3)",
     "output_type": "error",
     "traceback": [
      "\u001b[0;31m---------------------------------------------------------------------------\u001b[0m",
      "\u001b[0;31mValueError\u001b[0m                                Traceback (most recent call last)",
      "\u001b[0;32m<ipython-input-41-67989e27f4f7>\u001b[0m in \u001b[0;36m<module>\u001b[0;34m()\u001b[0m\n\u001b[1;32m     17\u001b[0m                     \u001b[0;32mprint\u001b[0m\u001b[0;34m(\u001b[0m\u001b[0mbreakpoints\u001b[0m\u001b[0;34m[\u001b[0m\u001b[0mj\u001b[0m\u001b[0;34m]\u001b[0m\u001b[0;34m)\u001b[0m\u001b[0;34m\u001b[0m\u001b[0m\n\u001b[1;32m     18\u001b[0m                     \u001b[0;32mprint\u001b[0m\u001b[0;34m(\u001b[0m\u001b[0mY\u001b[0m\u001b[0;34m[\u001b[0m\u001b[0mi\u001b[0m\u001b[0;34m,\u001b[0m\u001b[0mbreakpoints\u001b[0m\u001b[0;34m[\u001b[0m\u001b[0mj\u001b[0m\u001b[0;34m-\u001b[0m\u001b[0;36m1\u001b[0m\u001b[0;34m]\u001b[0m\u001b[0;34m:\u001b[0m\u001b[0mbreakpoints\u001b[0m\u001b[0;34m[\u001b[0m\u001b[0mj\u001b[0m\u001b[0;34m]\u001b[0m\u001b[0;34m]\u001b[0m\u001b[0;34m.\u001b[0m\u001b[0mshape\u001b[0m\u001b[0;34m)\u001b[0m\u001b[0;34m\u001b[0m\u001b[0m\n\u001b[0;32m---> 19\u001b[0;31m                 \u001b[0mYs\u001b[0m\u001b[0;34m[\u001b[0m\u001b[0mj\u001b[0m\u001b[0;34m]\u001b[0m\u001b[0;34m.\u001b[0m\u001b[0mappend\u001b[0m\u001b[0;34m(\u001b[0m\u001b[0mY\u001b[0m\u001b[0;34m[\u001b[0m\u001b[0mi\u001b[0m\u001b[0;34m,\u001b[0m\u001b[0mbreakpoints\u001b[0m\u001b[0;34m[\u001b[0m\u001b[0mj\u001b[0m\u001b[0;34m-\u001b[0m\u001b[0;36m1\u001b[0m\u001b[0;34m]\u001b[0m\u001b[0;34m:\u001b[0m\u001b[0mbreakpoints\u001b[0m\u001b[0;34m[\u001b[0m\u001b[0mj\u001b[0m\u001b[0;34m]\u001b[0m\u001b[0;34m]\u001b[0m\u001b[0;34m.\u001b[0m\u001b[0mreshape\u001b[0m\u001b[0;34m(\u001b[0m\u001b[0;34m(\u001b[0m\u001b[0;36m1\u001b[0m\u001b[0;34m,\u001b[0m\u001b[0mbreakpoints\u001b[0m\u001b[0;34m[\u001b[0m\u001b[0mj\u001b[0m\u001b[0;34m]\u001b[0m\u001b[0;34m-\u001b[0m\u001b[0mbreakpoints\u001b[0m\u001b[0;34m[\u001b[0m\u001b[0mj\u001b[0m\u001b[0;34m-\u001b[0m\u001b[0;36m1\u001b[0m\u001b[0;34m]\u001b[0m\u001b[0;34m)\u001b[0m\u001b[0;34m)\u001b[0m\u001b[0;34m)\u001b[0m\u001b[0;34m\u001b[0m\u001b[0m\n\u001b[0m\u001b[1;32m     20\u001b[0m             \u001b[0;32mbreak\u001b[0m\u001b[0;34m\u001b[0m\u001b[0m\n\u001b[1;32m     21\u001b[0m \u001b[0;31m# was going to handle the NON-CRIMINAL vs NON -CRIMINAL case but got lazy...\u001b[0m\u001b[0;34m\u001b[0m\u001b[0;34m\u001b[0m\u001b[0m\n",
      "\u001b[0;31mValueError\u001b[0m: cannot reshape array of size 1 into shape (1,3)"
     ]
    }
   ],
   "source": [
    "#bucket_sizes = [3,4,5,2,7,2,5,2,3]\n",
    "breakpoints = [3,7,12,14,21,23,28,30,33]\n",
    "Xs = [[],[],[],[],[],[],[],[],[]]\n",
    "Ys = [[],[],[],[],[],[],[],[],[]]\n",
    "\n",
    "for i in range(X.shape[0]):\n",
    "    index = np.argmax(Y[i,:])\n",
    "    for j in range(len(breakpoints)):\n",
    "        if index < breakpoints[j]:\n",
    "            Xs[j].append(X[i,:].reshape((1,X.shape[1])))\n",
    "            if j == 0:\n",
    "                Ys[j].append(Y[i,0:breakpoints[j]].reshape((1,breakpoints[j])))\n",
    "            else:\n",
    "                Ys[j].append(Y[i,breakpoints[j-1]:breakpoints[j]].reshape((1,breakpoints[j]-breakpoints[j-1])))\n",
    "            break\n",
    "# was going to handle the NON-CRIMINAL vs NON -CRIMINAL case but got lazy...\n",
    "#print(Xs[0][0])\n",
    "#print(Ys[0][4])\n",
    "X_arrs = []\n",
    "Y_arrs = []\n",
    "\n",
    "for i in range(len(Xs)):\n",
    "    X_arrs.append(np.concatenate(Xs[i],axis=0))\n",
    "    Y_arrs.append(np.concatenate(Ys[i],axis=0))\n",
    "    print(X_arrs[i].shape)\n",
    "    print(Y_arrs[i].shape)"
   ]
  },
  {
   "cell_type": "code",
   "execution_count": null,
   "metadata": {},
   "outputs": [],
   "source": []
  }
 ],
 "metadata": {
  "kernelspec": {
   "display_name": "tensorflow",
   "language": "python",
   "name": "tensorflow"
  },
  "language_info": {
   "codemirror_mode": {
    "name": "ipython",
    "version": 2
   },
   "file_extension": ".py",
   "mimetype": "text/x-python",
   "name": "python",
   "nbconvert_exporter": "python",
   "pygments_lexer": "ipython2",
   "version": "2.7.12"
  }
 },
 "nbformat": 4,
 "nbformat_minor": 2
}
