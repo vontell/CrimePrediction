{
 "cells": [
  {
   "cell_type": "markdown",
   "metadata": {},
   "source": [
    "# Crime Analysis and Prediction\n",
    "\n",
    "This file contains a set of experiments for analyzing and extrapolating data regarding crimes."
   ]
  },
  {
   "cell_type": "markdown",
   "metadata": {},
   "source": [
    "## 1. Data Loading and Sanitization"
   ]
  },
  {
   "cell_type": "code",
   "execution_count": 4,
   "metadata": {
    "scrolled": true
   },
   "outputs": [
    {
     "name": "stdout",
     "output_type": "stream",
     "text": [
      "Creating checkpoint for crimes\n",
      "Loading crime data\n",
      "Finished loading data\n",
      "Creating X feature matrix\n",
      "Creating Y feature matrix\n",
      "Featurization complete\n",
      "Featurization achieved\n"
     ]
    }
   ],
   "source": [
    "import matplotlib.pyplot as plt\n",
    "from sklearn.neighbors import KNeighborsClassifier\n",
    "from sklearn.linear_model import LogisticRegression\n",
    "from data import CrimeLoader\n",
    "import numpy as np\n",
    "\n",
    "# Crime loader now handles all of the data saving and parsing\n",
    "#    force_refresh - If true, will read from the original files rather than a saved pickle file\n",
    "#    force_save - If true, will save any loaded data into a pickle for later loading\n",
    "#    data_limit - The number of crimes to load (used for speedup)\n",
    "data = CrimeLoader()\n",
    "data.load_data(force_refresh=False, force_save=False, data_limit=100000, randomize=True)\n",
    "\n",
    "# List of possible features to include:\n",
    "#    day                - Day of the week (ex: SUN - SAT) 1-hot encoded\n",
    "#    time               - Time of day (ex: Morning, Afternoon, Evening, Late Night) 1-hot encoded\n",
    "#    time min           - Time in minutes (ex: 1420 minutes) Integer value (not 1-hot encoded)\n",
    "#    hour               - Time in hour (ex: 13) Integer value (not 1-hot encoded)\n",
    "#    location           - Location of crime, (ex: lat, long) 2 float values\n",
    "#    crime condensed    - Encoding of crime, 1-hot encoded of length 9 (?)\n",
    "#    crime full         - Encoding of crime, 1-hot encoded of length ~ 30\n",
    "#    all                - All of the above\n",
    "\n",
    "X_features = [\"day\", \"time min\", \"location\"]\n",
    "Y_features = [\"crime condensed\"]\n",
    "X, Y, X_decoder, Y_decoder = data.get_workable_data(X_features, Y_features)\n",
    "print(\"Featurization achieved\")"
   ]
  },
  {
   "cell_type": "markdown",
   "metadata": {},
   "source": [
    "## 2. K-Nearest Neighbors"
   ]
  },
  {
   "cell_type": "code",
   "execution_count": 5,
   "metadata": {
    "collapsed": true
   },
   "outputs": [],
   "source": [
    "def train_KNN(feature_matrix, targets, n):\n",
    "    knn = KNeighborsClassifier(n_neighbors=n)\n",
    "    Y = np.zeros(targets.shape[0])\n",
    "    for i in range(targets.shape[0]):\n",
    "        Y[i] = np.argmax(targets[i])\n",
    "    knn.fit(feature_matrix,Y)\n",
    "    return knn\n"
   ]
  },
  {
   "cell_type": "code",
   "execution_count": 6,
   "metadata": {
    "collapsed": true
   },
   "outputs": [],
   "source": [
    "def int_to_category(prediction):\n",
    "    categories = [\"KIDNAPPING / CHILDREN\",\"ROBBERY/BURGLARY/THEFT\",\"ASSAULT/VIOLENCE\",\"NARCOTICS\",\"PUBLIC-RELATED CRIME\",\"DAMAGE/ARSON\",\"OTHER/NON-CRIMINAL\",\"WEAPON-RELATED\",\"PROHIBITIVE CRIME\"]\n",
    "    return categories[int(prediction)]\n"
   ]
  },
  {
   "cell_type": "code",
   "execution_count": 9,
   "metadata": {
    "scrolled": true
   },
   "outputs": [
    {
     "name": "stdout",
     "output_type": "stream",
     "text": [
      "(97530, 10)\n",
      "Validation set Performance with k = 1:0.255\n",
      "Validation set Performance with k = 2:0.34\n",
      "Validation set Performance with k = 3:0.34\n",
      "Validation set Performance with k = 4:0.345\n",
      "Validation set Performance with k = 5:0.35\n",
      "Validation set Performance with k = 6:0.375\n",
      "Validation set Performance with k = 7:0.395\n",
      "Validation set Performance with k = 8:0.4\n",
      "Validation set Performance with k = 9:0.405\n",
      "Validation set Performance with k = 10:0.41\n",
      "Validation set Performance with k = 11:0.41\n",
      "Validation set Performance with k = 12:0.415\n",
      "Validation set Performance with k = 13:0.41\n",
      "Validation set Performance with k = 14:0.395\n",
      "Validation set Performance with k = 15:0.385\n",
      "Validation set Performance with k = 16:0.395\n",
      "Validation set Performance with k = 17:0.38\n",
      "Validation set Performance with k = 18:0.39\n",
      "Validation set Performance with k = 19:0.4\n",
      "Validation set Performance with k = 20:0.4\n",
      "Validation set Performance with k = 21:0.405\n",
      "Validation set Performance with k = 22:0.4\n",
      "Validation set Performance with k = 23:0.405\n",
      "Validation set Performance with k = 24:0.41\n",
      "Validation set Performance with k = 25:0.41\n",
      "Validation set Performance with k = 26:0.43\n",
      "Validation set Performance with k = 27:0.435\n",
      "Validation set Performance with k = 28:0.42\n",
      "Validation set Performance with k = 29:0.435\n",
      "Test set Performance with k = 27:  0.37\n"
     ]
    }
   ],
   "source": [
    "def evaluate_KNN(X, Y):\n",
    "    # Loading data\n",
    "    X_train = X[1:300]\n",
    "    Y_train = Y[1:300]\n",
    "    X_validate = X[300:500]\n",
    "    Y_validate = Y[300:500]\n",
    "    X_test = X[500:600]\n",
    "    Y_test = Y[500:600]\n",
    "    \n",
    "    #Tuning on the validation set for value of K\n",
    "    K = [k for k in range(1,30)]\n",
    "    best_K = 0\n",
    "    max_score = 0.0\n",
    "    for k in K:\n",
    "        knn = train_KNN(X_train, Y_train, k)\n",
    "        predictions = knn.predict(X_validate)\n",
    "        correct = 0.0\n",
    "        for i in range(predictions.shape[0]):\n",
    "            if int_to_category(predictions[i]) == Y_decoder(Y_validate[i])[0]:\n",
    "                correct += 1.0\n",
    "        if correct > max_score:\n",
    "            max_score = correct\n",
    "            best_K = k\n",
    "        print(\"Validation set Performance with k = \" + str(k) + \":\" + str(correct/predictions.shape[0]))\n",
    "    \n",
    "    #Evaluating on Test set with best K value\n",
    "    knn = train_KNN(X_train, Y_train, best_K)\n",
    "    predictions = knn.predict(X_test)\n",
    "    correct = 0.0\n",
    "    for i in range(predictions.shape[0]):\n",
    "        if int_to_category(predictions[i]) == Y_decoder(Y_test[i])[0]:\n",
    "            correct += 1.0\n",
    "    if correct > max_score:\n",
    "        max_score = correct\n",
    "        best_K = k\n",
    "    print(\"Test set Performance with k = \" + str(best_K) + \":  \" + str(correct/predictions.shape[0]))\n",
    "\n",
    "print(X.shape)\n",
    "evaluate_KNN(X, Y)       \n",
    "        \n",
    "    \n",
    "    \n",
    "    \n",
    "    "
   ]
  },
  {
   "cell_type": "code",
   "execution_count": 18,
   "metadata": {
    "collapsed": true
   },
   "outputs": [],
   "source": [
    "def train_MaxEnt(feature_matrix, targets, c):\n",
    "    maxEnt = LogisticRegression(C = c)\n",
    "    maxEnt.fit(feature_matrix,targets)\n",
    "    return maxEnt"
   ]
  },
  {
   "cell_type": "code",
   "execution_count": 26,
   "metadata": {},
   "outputs": [
    {
     "name": "stdout",
     "output_type": "stream",
     "text": [
      "[ 5.  1.  1.  1.  2.  1.  2.  1.  2.  3.  7.  5.  2.  2.  1.  2.  5.  1.\n",
      "  1.  5.  1.  1.  5.  2.  8.  2.  2.  2.  2.  3.  1.  1.  2.  1.  2.  5.\n",
      "  0.  3.  1.  2.  1.  6.  5.  2.  1.  4.  3.  2.  1.  1.  5.  1.  5.  1.\n",
      "  1.  1.  4.  6.  2.  1.  1.  1.  1.  1.  2.  2.  3.  3.  1.  1.  1.  2.\n",
      "  5.  1.  5.  1.  2.  1.  2.  2.  2.  2.  6.  1.  5.  5.  1.  2.  1.  2.\n",
      "  2.  2.  7.  5.  1.  1.  3.  3.  1.  1.  1.  2.  2.  6.  2.  2.  5.  2.\n",
      "  3.  1.  1.  4.  4.  1.  3.  1.  3.  5.  6.  1.  6.  6.  4.  2.  1.  1.\n",
      "  1.  1.  2.  3.  6.  5.  2.  1.  5.  1.  1.  5.  1.  6.  6.  5.  1.  6.\n",
      "  2.  3.  2.  6.  1.  1.  1.  6.  2.  5.  6.  3.  1.  5.  6.  1.  2.  2.\n",
      "  6.  2.  6.  2.  7.  3.  1.  1.  1.  3.  1.  1.  1.  1.  1.  1.  6.  4.\n",
      "  2.  1.  6.  1.  6.  5.  3.  1.  2.  6.  1.  3.  2.  3.  5.  2.  1.  1.\n",
      "  3.  1.  5.  3.  7.  3.  1.  1.  3.  2.  5.  1.  7.  2.  1.  1.  1.  7.\n",
      "  5.  1.  3.  1.  1.  2.  3.  1.  1.  1.  2.  6.  5.  6.  2.  2.  5.  2.\n",
      "  2.  1.  1.  4.  2.  5.  1.  3.  1.  1.  6.  1.  1.  4.  3.  1.  3.  1.\n",
      "  5.  2.  4.  1.  2.  1.  1.  2.  1.  6.  1.  1.  1.  2.  2.  4.  1.  1.\n",
      "  2.  4.  1.  1.  1.  3.  5.  1.  2.  1.  2.  2.  4.  2.  1.  3.  3.  1.\n",
      "  1.  6.  5.  1.  1.  1.  2.  1.  5.  3.  6.]\n",
      "[ 2.  5.  8.  2.  0.  1.  3.  5.  3.  2.  2.  1.  6.  2.  5.  1.  2.  1.\n",
      "  2.  6.  2.  3.  1.  2.  1.  5.  3.  2.  2.  1.  2.  1.  1.  1.  3.  1.\n",
      "  1.  1.  2.  1.  5.  1.  2.  6.  6.  2.  5.  1.  1.  3.  5.  1.  1.  1.\n",
      "  1.  2.  2.  1.  8.  5.  1.  1.  2.  1.  1.  1.  1.  1.  2.  4.  1.  1.\n",
      "  2.  1.  1.  1.  6.  1.  1.  5.  3.  3.  1.  4.  3.  3.  5.  1.  7.  3.\n",
      "  3.  2.  1.  3.  3.  1.  6.  2.  1.  2.  3.  2.  6.  2.  2.  1.  1.  1.\n",
      "  4.  2.  2.  1.  4.  1.  6.  1.  5.  4.  2.  1.  4.  5.  1.  1.  1.  1.\n",
      "  2.  4.  2.  1.  2.  3.  1.  1.  3.  2.  2.  5.  6.  1.  2.  2.  0.  1.\n",
      "  2.  1.  1.  3.  6.  1.  1.  1.  1.  1.  2.  1.  6.  1.  1.  1.  1.  1.\n",
      "  1.  0.  3.  2.  4.  4.  1.  3.  2.  1.  2.  1.  6.  2.  2.  1.  1.  1.\n",
      "  2.  2.  2.  6.  5.  3.  4.  2.  1.  1.  1.  1.  3.  1.  0.  1.  1.  1.\n",
      "  1.  1.]\n",
      "[ 6.  2.  2.  1.  2.  8.  2.  2.  6.  1.  1.  2.  1.  2.  2.  3.  1.  1.\n",
      "  4.  1.  2.  2.  5.  6.  1.  2.  1.  4.  1.  2.  1.  2.  1.  2.  1.  2.\n",
      "  1.  2.  4.  2.  1.  1.  2.  2.  6.  3.  4.  1.  2.  6.  2.  1.  6.  1.\n",
      "  3.  1.  2.  2.  5.  2.  1.  1.  1.  5.  3.  1.  2.  1.  6.  6.  2.  2.\n",
      "  1.  3.  2.  1.  1.  3.  2.  6.  1.  1.  1.  1.  1.  6.  6.  1.  1.  1.\n",
      "  5.  6.  1.  2.  2.  7.  1.  2.  2.  1.]\n",
      "Validation set Performance with C = 0.001:0.435\n",
      "Validation set Performance with C = 0.01:0.435\n",
      "Validation set Performance with C = 0.1:0.435\n",
      "Validation set Performance with C = 1.0:0.435\n",
      "Validation set Performance with C = 2.0:0.435\n",
      "Validation set Performance with C = 5.0:0.435\n",
      "Validation set Performance with C = 10.0:0.435\n",
      "Test set Performance with C = 0.001:  0.39\n"
     ]
    }
   ],
   "source": [
    "def evaluate_MaxEnt(X, Y):\n",
    "    # Loading data\n",
    "    X_train = X[1:300]\n",
    "    Y_train = Y[1:300]\n",
    "    X_validate = X[300:500]\n",
    "    Y_validate = Y[300:500]\n",
    "    X_test = X[500:600]\n",
    "    Y_test = Y[500:600]\n",
    "    train_targets = np.zeros(Y_train.shape[0])\n",
    "    for i in range(Y_train.shape[0]):\n",
    "        train_targets[i] = np.argmax(Y_train[i])\n",
    "    validation_targets = np.zeros(Y_validate.shape[0])\n",
    "    for i in range(Y_validate.shape[0]):\n",
    "        validation_targets[i] = np.argmax(Y_validate[i])\n",
    "    test_targets = np.zeros(Y_test.shape[0])\n",
    "    for i in range(Y_test.shape[0]):\n",
    "        test_targets[i] = np.argmax(Y_test[i])\n",
    "    \n",
    "    print train_targets\n",
    "    print validation_targets\n",
    "    print test_targets\n",
    "    \n",
    "        \n",
    "    \n",
    "    #Tuning on the validation set for value of C\n",
    "    C = [.001, .01, .1, 1.0, 2.0, 5.0, 10.0]\n",
    "    best_C = 0\n",
    "    max_score = 0.0\n",
    "    for c in C:\n",
    "        maxEnt = train_MaxEnt(X_train, train_targets, c)\n",
    "        \n",
    "        score = maxEnt.score(X_validate, validation_targets)\n",
    "        if score > max_score:\n",
    "            max_score = score\n",
    "            best_C = c\n",
    "        print(\"Validation set Performance with C = \" + str(c) + \":\" + str(score))\n",
    "    \n",
    "    #Evaluating on Test set with best K value\n",
    "    maxEnt = train_MaxEnt(X_train, train_targets, .001)\n",
    "    test_score = maxEnt.score(X_test, test_targets)\n",
    "    print(\"Test set Performance with C = \" + str(best_C) + \":  \" + str(test_score))\n",
    "\n",
    "evaluate_MaxEnt(X, Y)       \n",
    "    "
   ]
  },
  {
   "cell_type": "markdown",
   "metadata": {},
   "source": [
    "## 4. Neural Network"
   ]
  },
  {
   "cell_type": "code",
   "execution_count": null,
   "metadata": {
    "collapsed": true
   },
   "outputs": [],
   "source": [
    "import keras"
   ]
  },
  {
   "cell_type": "code",
   "execution_count": 13,
   "metadata": {},
   "outputs": [
    {
     "name": "stdout",
     "output_type": "stream",
     "text": [
      "(97472, 10)\n",
      "(97472, 9)\n",
      "(97472, 10)\n",
      "(97472, 9)\n",
      "[   0.            0.            0.            0.            0.            1.\n",
      "    0.          990.           41.78299076  -87.61447837]\n",
      "[ 0.  0.  0.  0.  0.  0.  1.  0.  0.]\n",
      "[  0.00000000e+00   0.00000000e+00   1.00000000e+00   0.00000000e+00\n",
      "   0.00000000e+00   0.00000000e+00   0.00000000e+00   1.35500000e+03\n",
      "   4.17863817e+01  -8.76951563e+01]\n",
      "[ 0.  0.  0.  0.  0.  0.  1.  0.  0.]\n",
      "(58483, 10)\n",
      "(19494, 10)\n",
      "(19495, 10)\n"
     ]
    }
   ],
   "source": [
    "# dividing training data with 60-20-20 train-val-test split\n",
    "\n",
    "num_training = int(0.6 * X.shape[0])\n",
    "num_val_or_test = int(0.2 * X.shape[0])\n",
    "\n",
    "# shuffling with fixed seed\n",
    "\n",
    "seed = 42\n",
    "\n",
    "# create big matrix and shuffle to ensure that things get shuffled properly\n",
    "# see https://stackoverflow.com/questions/35646908/numpy-shuffle-multidimensional-array-by-row-only-keep-column-order-unchanged\n",
    "\n",
    "total = np.hstack((X,Y))\n",
    "\n",
    "np.random.seed(42)\n",
    "\n",
    "np.random.shuffle(total)\n",
    "\n",
    "print(X.shape)\n",
    "print(Y.shape)\n",
    "\n",
    "# split back apart to partition into training, validation, and test sets\n",
    "\n",
    "X_new = total[:,0:X.shape[1]]\n",
    "Y_new = total[:,X.shape[1]:]\n",
    "\n",
    "#X_new = X\n",
    "#Y_new = Y # lol\n",
    "\n",
    "print(X_new.shape)\n",
    "print(Y_new.shape)\n",
    "\n",
    "print(X[0])\n",
    "print(Y[0])\n",
    "print(X_new[0])\n",
    "print(Y_new[0])\n",
    "\n",
    "X_train = X_new[0:num_training,:]\n",
    "Y_train = Y_new[0:num_training,:]\n",
    "\n",
    "X_val = X_new[num_training:num_training+num_val_or_test,:]\n",
    "Y_val = Y_new[num_training:num_training+num_val_or_test,:]\n",
    "\n",
    "X_test = X_new[num_training+num_val_or_test:,:]\n",
    "Y_test = Y_new[num_training+num_val_or_test:,:]\n",
    "\n",
    "print(X_train.shape)\n",
    "print(X_val.shape)\n",
    "print(X_test.shape)"
   ]
  },
  {
   "cell_type": "code",
   "execution_count": 15,
   "metadata": {},
   "outputs": [
    {
     "name": "stdout",
     "output_type": "stream",
     "text": [
      "_________________________________________________________________\n",
      "Layer (type)                 Output Shape              Param #   \n",
      "=================================================================\n",
      "dense_43 (Dense)             (None, 100)               1100      \n",
      "_________________________________________________________________\n",
      "dropout_36 (Dropout)         (None, 100)               0         \n",
      "_________________________________________________________________\n",
      "dense_44 (Dense)             (None, 100)               10100     \n",
      "_________________________________________________________________\n",
      "dropout_37 (Dropout)         (None, 100)               0         \n",
      "_________________________________________________________________\n",
      "dense_45 (Dense)             (None, 100)               10100     \n",
      "_________________________________________________________________\n",
      "dropout_38 (Dropout)         (None, 100)               0         \n",
      "_________________________________________________________________\n",
      "dense_46 (Dense)             (None, 100)               10100     \n",
      "_________________________________________________________________\n",
      "dropout_39 (Dropout)         (None, 100)               0         \n",
      "_________________________________________________________________\n",
      "dense_47 (Dense)             (None, 100)               10100     \n",
      "_________________________________________________________________\n",
      "dropout_40 (Dropout)         (None, 100)               0         \n",
      "_________________________________________________________________\n",
      "dense_48 (Dense)             (None, 9)                 909       \n",
      "=================================================================\n",
      "Total params: 42,409\n",
      "Trainable params: 42,409\n",
      "Non-trainable params: 0\n",
      "_________________________________________________________________\n",
      "Train on 58483 samples, validate on 19494 samples\n",
      "Epoch 1/5\n",
      "58483/58483 [==============================] - 1s - loss: 9.5595 - acc: 0.3285 - val_loss: 8.1732 - val_acc: 0.3642\n",
      "Epoch 2/5\n",
      "58483/58483 [==============================] - 1s - loss: 5.4845 - acc: 0.2690 - val_loss: 1.9708 - val_acc: 0.3124\n",
      "Epoch 3/5\n",
      "58483/58483 [==============================] - 1s - loss: 1.9737 - acc: 0.2943 - val_loss: 1.8973 - val_acc: 0.3125\n",
      "Epoch 4/5\n",
      "58483/58483 [==============================] - 1s - loss: 1.8204 - acc: 0.3282 - val_loss: 1.8076 - val_acc: 0.3662\n",
      "Epoch 5/5\n",
      "58483/58483 [==============================] - 1s - loss: 1.7812 - acc: 0.3402 - val_loss: 1.7687 - val_acc: 0.3662\n",
      "('Test loss:', 1.7735980950309302)\n",
      "('Test accuracy:', 0.36619646063322409)\n",
      "('Test accuracy with top 2:', 0.6198512439086945)\n",
      "('Test accuracy with top 3:', 0.737932803282893)\n"
     ]
    }
   ],
   "source": [
    "import keras\n",
    "from keras.models import Sequential\n",
    "from keras.layers import Dense, Dropout\n",
    "from keras.optimizers import RMSprop, SGD, Adam\n",
    "#u ready for some neural nets?\n",
    "\n",
    "batch_size = 2048\n",
    "epochs = 5\n",
    "hidden_layers = 5\n",
    "units_per_layer = 100\n",
    "dropout_rate = 0.2\n",
    "\n",
    "model = Sequential()\n",
    "for i in range(hidden_layers):\n",
    "    if i == 0:\n",
    "        model.add(Dense(activation='relu', input_shape=(len(X[0]),), units=units_per_layer))\n",
    "    else:\n",
    "        model.add(Dense(activation='relu', units=units_per_layer))\n",
    "    model.add(Dropout(dropout_rate))\n",
    "\n",
    "model.add(Dense(activation='softmax',units=Y.shape[1]))\n",
    "\n",
    "model.summary()\n",
    "\n",
    "model.compile(loss='categorical_crossentropy',\n",
    "              optimizer=Adam(),\n",
    "              metrics=['accuracy'])\n",
    "\n",
    "history = model.fit(X_train, Y_train,\n",
    "                    batch_size=batch_size,\n",
    "                    epochs=epochs,\n",
    "                    verbose=1,\n",
    "                    validation_data=(X_val, Y_val))\n",
    "score = model.evaluate(X_test, Y_test, verbose=0)\n",
    "print('Test loss:', score[0])\n",
    "print('Test accuracy:', score[1])\n",
    "\n",
    "#this is kinda like witchcraft, so I'm just wrapping it in a function so it looks like it makes more sense\n",
    "def k_largest(k, arr):\n",
    "    return arr.argsort()[-k:][::-1]\n",
    "#array([4, 3, 1])\n",
    "\n",
    "predictions = model.predict(X_test)\n",
    "total = X_test.shape[0]\n",
    "correct_with_top_2 = 0\n",
    "correct_with_top_3 = 0\n",
    "for i in range(X_test.shape[0]):\n",
    "    pred = predictions[i,:]\n",
    "    top2 = k_largest(2, pred)\n",
    "    top3 = k_largest(3, pred)\n",
    "    found = False\n",
    "    for j in range(len(top2)):\n",
    "        if Y_test[i,:][top2[j]] == 1.0:\n",
    "            correct_with_top_2 += 1.0\n",
    "            correct_with_top_3 += 1.0\n",
    "            found = True\n",
    "            break\n",
    "    if found:\n",
    "        continue\n",
    "    if Y_test[i,:][top3[-1]] == 1.0:\n",
    "        correct_with_top_3 += 1.0\n",
    "            \n",
    "#print(Y_train[0])\n",
    "print('Test accuracy with top 2:', correct_with_top_2 / total)\n",
    "print('Test accuracy with top 3:', correct_with_top_3 / total)"
   ]
  },
  {
   "cell_type": "code",
   "execution_count": 41,
   "metadata": {},
   "outputs": [
    {
     "name": "stdout",
     "output_type": "stream",
     "text": [
      "(97421, 31)\n",
      "30\n",
      "33\n",
      "(1,)\n"
     ]
    },
    {
     "ename": "ValueError",
     "evalue": "cannot reshape array of size 1 into shape (1,3)",
     "output_type": "error",
     "traceback": [
      "\u001b[0;31m---------------------------------------------------------------------------\u001b[0m",
      "\u001b[0;31mValueError\u001b[0m                                Traceback (most recent call last)",
      "\u001b[0;32m<ipython-input-41-67989e27f4f7>\u001b[0m in \u001b[0;36m<module>\u001b[0;34m()\u001b[0m\n\u001b[1;32m     17\u001b[0m                     \u001b[0;32mprint\u001b[0m\u001b[0;34m(\u001b[0m\u001b[0mbreakpoints\u001b[0m\u001b[0;34m[\u001b[0m\u001b[0mj\u001b[0m\u001b[0;34m]\u001b[0m\u001b[0;34m)\u001b[0m\u001b[0;34m\u001b[0m\u001b[0m\n\u001b[1;32m     18\u001b[0m                     \u001b[0;32mprint\u001b[0m\u001b[0;34m(\u001b[0m\u001b[0mY\u001b[0m\u001b[0;34m[\u001b[0m\u001b[0mi\u001b[0m\u001b[0;34m,\u001b[0m\u001b[0mbreakpoints\u001b[0m\u001b[0;34m[\u001b[0m\u001b[0mj\u001b[0m\u001b[0;34m-\u001b[0m\u001b[0;36m1\u001b[0m\u001b[0;34m]\u001b[0m\u001b[0;34m:\u001b[0m\u001b[0mbreakpoints\u001b[0m\u001b[0;34m[\u001b[0m\u001b[0mj\u001b[0m\u001b[0;34m]\u001b[0m\u001b[0;34m]\u001b[0m\u001b[0;34m.\u001b[0m\u001b[0mshape\u001b[0m\u001b[0;34m)\u001b[0m\u001b[0;34m\u001b[0m\u001b[0m\n\u001b[0;32m---> 19\u001b[0;31m                 \u001b[0mYs\u001b[0m\u001b[0;34m[\u001b[0m\u001b[0mj\u001b[0m\u001b[0;34m]\u001b[0m\u001b[0;34m.\u001b[0m\u001b[0mappend\u001b[0m\u001b[0;34m(\u001b[0m\u001b[0mY\u001b[0m\u001b[0;34m[\u001b[0m\u001b[0mi\u001b[0m\u001b[0;34m,\u001b[0m\u001b[0mbreakpoints\u001b[0m\u001b[0;34m[\u001b[0m\u001b[0mj\u001b[0m\u001b[0;34m-\u001b[0m\u001b[0;36m1\u001b[0m\u001b[0;34m]\u001b[0m\u001b[0;34m:\u001b[0m\u001b[0mbreakpoints\u001b[0m\u001b[0;34m[\u001b[0m\u001b[0mj\u001b[0m\u001b[0;34m]\u001b[0m\u001b[0;34m]\u001b[0m\u001b[0;34m.\u001b[0m\u001b[0mreshape\u001b[0m\u001b[0;34m(\u001b[0m\u001b[0;34m(\u001b[0m\u001b[0;36m1\u001b[0m\u001b[0;34m,\u001b[0m\u001b[0mbreakpoints\u001b[0m\u001b[0;34m[\u001b[0m\u001b[0mj\u001b[0m\u001b[0;34m]\u001b[0m\u001b[0;34m-\u001b[0m\u001b[0mbreakpoints\u001b[0m\u001b[0;34m[\u001b[0m\u001b[0mj\u001b[0m\u001b[0;34m-\u001b[0m\u001b[0;36m1\u001b[0m\u001b[0;34m]\u001b[0m\u001b[0;34m)\u001b[0m\u001b[0;34m)\u001b[0m\u001b[0;34m)\u001b[0m\u001b[0;34m\u001b[0m\u001b[0m\n\u001b[0m\u001b[1;32m     20\u001b[0m             \u001b[0;32mbreak\u001b[0m\u001b[0;34m\u001b[0m\u001b[0m\n\u001b[1;32m     21\u001b[0m \u001b[0;31m# was going to handle the NON-CRIMINAL vs NON -CRIMINAL case but got lazy...\u001b[0m\u001b[0;34m\u001b[0m\u001b[0;34m\u001b[0m\u001b[0m\n",
      "\u001b[0;31mValueError\u001b[0m: cannot reshape array of size 1 into shape (1,3)"
     ]
    }
   ],
   "source": [
    "#bucket_sizes = [3,4,5,2,7,2,5,2,3]\n",
    "breakpoints = [3,7,12,14,21,23,28,30,33]\n",
    "Xs = [[],[],[],[],[],[],[],[],[]]\n",
    "Ys = [[],[],[],[],[],[],[],[],[]]\n",
    "\n",
    "for i in range(X.shape[0]):\n",
    "    index = np.argmax(Y[i,:])\n",
    "    for j in range(len(breakpoints)):\n",
    "        if index < breakpoints[j]:\n",
    "            Xs[j].append(X[i,:].reshape((1,X.shape[1])))\n",
    "            if j == 0:\n",
    "                Ys[j].append(Y[i,0:breakpoints[j]].reshape((1,breakpoints[j])))\n",
    "            else:\n",
    "                Ys[j].append(Y[i,breakpoints[j-1]:breakpoints[j]].reshape((1,breakpoints[j]-breakpoints[j-1])))\n",
    "            break\n",
    "# was going to handle the NON-CRIMINAL vs NON -CRIMINAL case but got lazy...\n",
    "#print(Xs[0][0])\n",
    "#print(Ys[0][4])\n",
    "X_arrs = []\n",
    "Y_arrs = []\n",
    "\n",
    "for i in range(len(Xs)):\n",
    "    X_arrs.append(np.concatenate(Xs[i],axis=0))\n",
    "    Y_arrs.append(np.concatenate(Ys[i],axis=0))\n",
    "    print(X_arrs[i].shape)\n",
    "    print(Y_arrs[i].shape)"
   ]
  },
  {
   "cell_type": "code",
   "execution_count": null,
   "metadata": {
    "collapsed": true
   },
   "outputs": [],
   "source": []
  }
 ],
 "metadata": {
  "kernelspec": {
   "display_name": "Python 2",
   "language": "python",
   "name": "python2"
  },
  "language_info": {
   "codemirror_mode": {
    "name": "ipython",
    "version": 2
   },
   "file_extension": ".py",
   "mimetype": "text/x-python",
   "name": "python",
   "nbconvert_exporter": "python",
   "pygments_lexer": "ipython2",
   "version": "2.7.11"
  }
 },
 "nbformat": 4,
 "nbformat_minor": 2
}
